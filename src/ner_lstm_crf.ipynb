{
 "cells": [
  {
   "cell_type": "code",
   "execution_count": 1,
   "metadata": {},
   "outputs": [],
   "source": [
    "import os\n",
    "import sys\n",
    "import warnings\n",
    "warnings.filterwarnings(\"ignore\")\n",
    "PACKAGE_ROOT = os.path.dirname(os.path.abspath(\"\"))\n",
    "# print(PACKAGE_ROOT)\n",
    "sys.path.insert(0, PACKAGE_ROOT)\n",
    "\n",
    "import numpy as np\n",
    "import pandas as pd\n",
    "import tensorflow as tf\n",
    "from tensorflow.keras import Input, Model\n",
    "from tensorflow.keras.layers import Embedding, LSTM, Bidirectional, TimeDistributed, Dense, Dropout\n",
    "import matplotlib.pyplot as plt\n",
    "pd.set_option(\"display.max_rows\", None)\n",
    "pd.set_option(\"display.max_columns\", None)\n",
    "plt.style.use(\"ggplot\")\n",
    "\n",
    "from commons import constants as C\n",
    "from utils.utils import get_connl_data\n",
    "from utils.utils import SentenceGetter\n",
    "from preprocessing.lstm_crf_preprocessor import LSTMCRFPreprocessor\n",
    "from data.ingestor import DataSaver"
   ]
  },
  {
   "cell_type": "code",
   "execution_count": 2,
   "metadata": {},
   "outputs": [],
   "source": [
    "train_df = get_connl_data(\"train\")\n",
    "valid_df = get_connl_data(\"valid\")\n",
    "test_df = get_connl_data(\"test\")\n",
    "\n",
    "train_sentences = SentenceGetter(train_df).sentences\n",
    "valid_sentences = SentenceGetter(valid_df).sentences\n",
    "test_sentences = SentenceGetter(test_df).sentences"
   ]
  },
  {
   "cell_type": "code",
   "execution_count": 3,
   "metadata": {},
   "outputs": [
    {
     "name": "stdout",
     "output_type": "stream",
     "text": [
      "Number of words: 29574\n",
      "Number of tags: 67\n",
      "Maximum length of sentence: 52\n"
     ]
    }
   ],
   "source": [
    "obj = LSTMCRFPreprocessor()\n",
    "train_sentences = obj.get_sentences(train_df)\n",
    "\n",
    "words = obj.get_words(train_df)\n",
    "n_words = len(words)\n",
    "print(f\"Number of words: {n_words}\")\n",
    "tags = obj.get_tags(train_df)\n",
    "n_tags = len(tags)\n",
    "print(f\"Number of tags: {n_tags}\")\n",
    "max_length = obj.get_max_length(train_sentences)\n",
    "print(f\"Maximum length of sentence: {max_length}\")"
   ]
  },
  {
   "cell_type": "code",
   "execution_count": 4,
   "metadata": {},
   "outputs": [],
   "source": [
    "word2idx, idx2word, tag2idx, idx2tag = obj.get_indices(words, tags)\n",
    "X_train, y_train = obj.preprocess(\n",
    "    train_sentences, word2idx, tag2idx, max_length, n_tags, n_words\n",
    ")\n",
    "\n",
    "y_train = np.array(y_train)\n",
    "X_valid, y_valid = obj.preprocess(\n",
    "    valid_sentences, word2idx, tag2idx, max_length, n_tags, n_words\n",
    ")\n",
    "y_valid = np.array(y_valid)\n",
    "\n",
    "X_test, y_test = obj.preprocess(\n",
    "    test_sentences, word2idx, tag2idx, max_length, n_tags, n_words\n",
    ")\n",
    "y_test = np.array(y_test)"
   ]
  },
  {
   "cell_type": "code",
   "execution_count": 5,
   "metadata": {},
   "outputs": [],
   "source": [
    "# input = Input(shape=(max_len,))\n",
    "# model = Embedding(input_dim=n_words + 1, output_dim=20,\n",
    "#                   input_length=max_len, mask_zero=True)(input)  # 20-dim embedding\n",
    "# model = Bidirectional(LSTM(units=50, return_sequences=True,\n",
    "#                            recurrent_dropout=0.1))(model)  # variational biLSTM\n",
    "# model = TimeDistributed(Dense(50, activation=\"relu\"))(model)  # a dense layer as suggested by neuralNer\n",
    "# crf = CRF(n_tags)  # CRF layer\n",
    "# out = crf(model)  # output\n",
    "\n",
    "# model = Model(input, out)\n",
    "# model.compile(optimizer=\"rmsprop\", loss=crf.loss_function, metrics=[crf.accuracy])"
   ]
  },
  {
   "cell_type": "code",
   "execution_count": 6,
   "metadata": {},
   "outputs": [
    {
     "name": "stdout",
     "output_type": "stream",
     "text": [
      "WARNING:tensorflow:From c:\\Users\\sharm\\anaconda3\\envs\\nlp\\lib\\site-packages\\tensorflow\\python\\autograph\\pyct\\static_analysis\\liveness.py:83: Analyzer.lamba_check (from tensorflow.python.autograph.pyct.static_analysis.liveness) is deprecated and will be removed after 2023-09-23.\n",
      "Instructions for updating:\n",
      "Lambda fuctions will be no more assumed to be used in the statement where they are used, or at least in the same block. https://github.com/tensorflow/tensorflow/issues/56089\n"
     ]
    }
   ],
   "source": [
    "from tf2crf import CRF, ModelWithCRFLoss\n",
    "input = Input(shape=(max_length,), dtype=np.int32)\n",
    "model = Embedding(input_dim=n_words, output_dim=20,\n",
    "                  input_length=max_length, mask_zero=True)(input)\n",
    "model = Bidirectional(LSTM(units=50, return_sequences=True,\n",
    "                           recurrent_dropout=0.1))(model)\n",
    "model = TimeDistributed(Dense(50, activation=\"relu\"))(model)\n",
    "crf = CRF(units=n_tags)\n",
    "output = crf(model)\n",
    "base_model = Model(input, output)\n",
    "model = ModelWithCRFLoss(base_model, sparse_target=True)\n",
    "model.compile(optimizer=\"adam\", loss=crf.accuracy_fn)\n",
    "# model.build(input_shape=(max_length,))\n",
    "# model.summary()\n",
    "# model = Model(input, out)\n",
    "# model.compile(optimizer=\"rmsprop\", loss=crf.loss_function, metrics=[crf.accuracy])"
   ]
  },
  {
   "cell_type": "code",
   "execution_count": 7,
   "metadata": {},
   "outputs": [
    {
     "name": "stdout",
     "output_type": "stream",
     "text": [
      "C:\\Users\\sharm\\Documents\\workspace\\gitworks\\ner-bilstm-crf\\outputs\\model_artifacts\\lstmcrf-model-26-03-2023-01-12-32\n"
     ]
    }
   ],
   "source": [
    "from datetime import datetime, timedelta\n",
    "model_type = \"lstmcrf\"\n",
    "now = datetime.utcnow() + timedelta(hours=5, minutes=30)\n",
    "FOLDER_NAME = f\"{model_type}-model-\"+now.strftime(\"%d-%m-%Y-%H-%M-%S\")\n",
    "FOLDER_PATH = os.path.join(C.MODELS_OUTPUT_DIR, FOLDER_NAME)\n",
    "print(FOLDER_PATH)\n",
    "if not os.path.exists(FOLDER_PATH):\n",
    "    os.makedirs(FOLDER_PATH)\n",
    "checkpoint_filepath = os.path.join(FOLDER_PATH, \"checkpoint\")\n",
    "# FILE_PATH = os.path.join(C.MODELS_OUTPUT_DIR, FILE_NAME)\n",
    "model_checkpoint_callback = tf.keras.callbacks.ModelCheckpoint(\n",
    "    filepath=checkpoint_filepath,\n",
    "    save_weights_only=True,\n",
    "    monitor='val_val_accuracy',\n",
    "    mode='max',\n",
    "    save_best_only=True)"
   ]
  },
  {
   "cell_type": "code",
   "execution_count": 8,
   "metadata": {},
   "outputs": [
    {
     "name": "stdout",
     "output_type": "stream",
     "text": [
      "Epoch 1/50\n",
      "57/57 - 40s - loss: 99.4154 - accuracy: 0.7028 - val_loss_val: 24.8208 - val_val_accuracy: 0.9404 - 40s/epoch - 696ms/step\n",
      "Epoch 2/50\n",
      "57/57 - 31s - loss: 21.7769 - accuracy: 0.9398 - val_loss_val: 19.9410 - val_val_accuracy: 0.9404 - 31s/epoch - 547ms/step\n",
      "Epoch 3/50\n",
      "57/57 - 31s - loss: 19.5865 - accuracy: 0.9398 - val_loss_val: 19.1612 - val_val_accuracy: 0.9404 - 31s/epoch - 543ms/step\n",
      "Epoch 4/50\n",
      "57/57 - 31s - loss: 18.7010 - accuracy: 0.9398 - val_loss_val: 18.5782 - val_val_accuracy: 0.9404 - 31s/epoch - 546ms/step\n",
      "Epoch 5/50\n",
      "57/57 - 31s - loss: 17.8387 - accuracy: 0.9398 - val_loss_val: 17.8140 - val_val_accuracy: 0.9404 - 31s/epoch - 552ms/step\n",
      "Epoch 6/50\n",
      "57/57 - 31s - loss: 16.6335 - accuracy: 0.9398 - val_loss_val: 16.3981 - val_val_accuracy: 0.9404 - 31s/epoch - 548ms/step\n",
      "Epoch 7/50\n",
      "57/57 - 31s - loss: 14.9415 - accuracy: 0.9398 - val_loss_val: 14.9350 - val_val_accuracy: 0.9408 - 31s/epoch - 550ms/step\n",
      "Epoch 8/50\n",
      "57/57 - 32s - loss: 13.3442 - accuracy: 0.9425 - val_loss_val: 14.3251 - val_val_accuracy: 0.9429 - 32s/epoch - 557ms/step\n",
      "Epoch 9/50\n",
      "57/57 - 32s - loss: 12.4477 - accuracy: 0.9449 - val_loss_val: 14.1166 - val_val_accuracy: 0.9434 - 32s/epoch - 554ms/step\n",
      "Epoch 10/50\n",
      "57/57 - 32s - loss: 11.7397 - accuracy: 0.9462 - val_loss_val: 14.0620 - val_val_accuracy: 0.9443 - 32s/epoch - 556ms/step\n",
      "Epoch 11/50\n",
      "57/57 - 32s - loss: 11.1296 - accuracy: 0.9471 - val_loss_val: 14.1710 - val_val_accuracy: 0.9441 - 32s/epoch - 557ms/step\n",
      "Epoch 12/50\n",
      "57/57 - 30s - loss: 10.6498 - accuracy: 0.9478 - val_loss_val: 14.0740 - val_val_accuracy: 0.9443 - 30s/epoch - 535ms/step\n",
      "Epoch 13/50\n",
      "57/57 - 32s - loss: 10.1812 - accuracy: 0.9488 - val_loss_val: 14.1725 - val_val_accuracy: 0.9453 - 32s/epoch - 554ms/step\n",
      "Epoch 14/50\n",
      "57/57 - 32s - loss: 9.6917 - accuracy: 0.9498 - val_loss_val: 14.4687 - val_val_accuracy: 0.9449 - 32s/epoch - 561ms/step\n",
      "Epoch 15/50\n",
      "57/57 - 32s - loss: 9.2546 - accuracy: 0.9509 - val_loss_val: 14.6898 - val_val_accuracy: 0.9450 - 32s/epoch - 555ms/step\n",
      "Epoch 16/50\n",
      "57/57 - 33s - loss: 8.8942 - accuracy: 0.9515 - val_loss_val: 14.9475 - val_val_accuracy: 0.9463 - 33s/epoch - 573ms/step\n",
      "Epoch 17/50\n",
      "57/57 - 32s - loss: 8.4553 - accuracy: 0.9531 - val_loss_val: 15.3376 - val_val_accuracy: 0.9466 - 32s/epoch - 570ms/step\n",
      "Epoch 18/50\n",
      "57/57 - 32s - loss: 7.9959 - accuracy: 0.9536 - val_loss_val: 14.8913 - val_val_accuracy: 0.9461 - 32s/epoch - 563ms/step\n",
      "Epoch 19/50\n",
      "57/57 - 32s - loss: 7.6438 - accuracy: 0.9547 - val_loss_val: 14.9965 - val_val_accuracy: 0.9464 - 32s/epoch - 561ms/step\n",
      "Epoch 20/50\n",
      "57/57 - 31s - loss: 7.2146 - accuracy: 0.9561 - val_loss_val: 15.3189 - val_val_accuracy: 0.9462 - 31s/epoch - 542ms/step\n",
      "Epoch 21/50\n",
      "57/57 - 30s - loss: 6.9062 - accuracy: 0.9574 - val_loss_val: 15.1879 - val_val_accuracy: 0.9457 - 30s/epoch - 535ms/step\n",
      "Epoch 22/50\n",
      "57/57 - 31s - loss: 6.5621 - accuracy: 0.9588 - val_loss_val: 15.1078 - val_val_accuracy: 0.9459 - 31s/epoch - 541ms/step\n",
      "Epoch 23/50\n",
      "57/57 - 34s - loss: 6.2118 - accuracy: 0.9598 - val_loss_val: 15.3310 - val_val_accuracy: 0.9460 - 34s/epoch - 589ms/step\n",
      "Epoch 24/50\n",
      "57/57 - 56s - loss: 5.8863 - accuracy: 0.9615 - val_loss_val: 15.4438 - val_val_accuracy: 0.9461 - 56s/epoch - 985ms/step\n",
      "Epoch 25/50\n",
      "57/57 - 37s - loss: 5.5932 - accuracy: 0.9627 - val_loss_val: 15.5610 - val_val_accuracy: 0.9460 - 37s/epoch - 642ms/step\n",
      "Epoch 26/50\n",
      "57/57 - 31s - loss: 5.2768 - accuracy: 0.9643 - val_loss_val: 15.6732 - val_val_accuracy: 0.9460 - 31s/epoch - 546ms/step\n",
      "Epoch 27/50\n",
      "57/57 - 31s - loss: 4.9805 - accuracy: 0.9660 - val_loss_val: 15.7773 - val_val_accuracy: 0.9463 - 31s/epoch - 539ms/step\n",
      "Epoch 28/50\n",
      "57/57 - 31s - loss: 4.6903 - accuracy: 0.9678 - val_loss_val: 15.7261 - val_val_accuracy: 0.9460 - 31s/epoch - 535ms/step\n",
      "Epoch 29/50\n",
      "57/57 - 31s - loss: 4.4218 - accuracy: 0.9693 - val_loss_val: 16.3359 - val_val_accuracy: 0.9474 - 31s/epoch - 547ms/step\n",
      "Epoch 30/50\n",
      "57/57 - 31s - loss: 4.1395 - accuracy: 0.9709 - val_loss_val: 16.6144 - val_val_accuracy: 0.9461 - 31s/epoch - 545ms/step\n",
      "Epoch 31/50\n",
      "57/57 - 32s - loss: 3.9056 - accuracy: 0.9723 - val_loss_val: 16.7682 - val_val_accuracy: 0.9457 - 32s/epoch - 555ms/step\n",
      "Epoch 32/50\n",
      "57/57 - 31s - loss: 3.7100 - accuracy: 0.9738 - val_loss_val: 17.0984 - val_val_accuracy: 0.9459 - 31s/epoch - 547ms/step\n",
      "Epoch 33/50\n",
      "57/57 - 31s - loss: 3.4694 - accuracy: 0.9752 - val_loss_val: 17.6316 - val_val_accuracy: 0.9462 - 31s/epoch - 548ms/step\n",
      "Epoch 34/50\n",
      "57/57 - 31s - loss: 3.3251 - accuracy: 0.9763 - val_loss_val: 17.8612 - val_val_accuracy: 0.9457 - 31s/epoch - 549ms/step\n",
      "Epoch 35/50\n",
      "57/57 - 31s - loss: 3.1051 - accuracy: 0.9776 - val_loss_val: 18.3191 - val_val_accuracy: 0.9462 - 31s/epoch - 552ms/step\n",
      "Epoch 36/50\n",
      "57/57 - 31s - loss: 2.9307 - accuracy: 0.9789 - val_loss_val: 18.6965 - val_val_accuracy: 0.9456 - 31s/epoch - 549ms/step\n",
      "Epoch 37/50\n",
      "57/57 - 32s - loss: 2.7919 - accuracy: 0.9806 - val_loss_val: 19.3972 - val_val_accuracy: 0.9460 - 32s/epoch - 554ms/step\n",
      "Epoch 38/50\n",
      "57/57 - 32s - loss: 2.6621 - accuracy: 0.9810 - val_loss_val: 19.2568 - val_val_accuracy: 0.9460 - 32s/epoch - 555ms/step\n",
      "Epoch 39/50\n",
      "57/57 - 31s - loss: 2.5007 - accuracy: 0.9825 - val_loss_val: 19.1530 - val_val_accuracy: 0.9456 - 31s/epoch - 552ms/step\n",
      "Epoch 40/50\n",
      "57/57 - 32s - loss: 2.3477 - accuracy: 0.9836 - val_loss_val: 19.8651 - val_val_accuracy: 0.9469 - 32s/epoch - 554ms/step\n",
      "Epoch 41/50\n",
      "57/57 - 32s - loss: 2.2439 - accuracy: 0.9846 - val_loss_val: 20.2248 - val_val_accuracy: 0.9460 - 32s/epoch - 553ms/step\n",
      "Epoch 42/50\n",
      "57/57 - 32s - loss: 2.1146 - accuracy: 0.9855 - val_loss_val: 20.6222 - val_val_accuracy: 0.9463 - 32s/epoch - 553ms/step\n",
      "Epoch 43/50\n",
      "57/57 - 31s - loss: 1.9997 - accuracy: 0.9864 - val_loss_val: 21.1365 - val_val_accuracy: 0.9466 - 31s/epoch - 549ms/step\n",
      "Epoch 44/50\n",
      "57/57 - 32s - loss: 1.9042 - accuracy: 0.9868 - val_loss_val: 21.1422 - val_val_accuracy: 0.9458 - 32s/epoch - 556ms/step\n",
      "Epoch 45/50\n",
      "57/57 - 31s - loss: 1.7716 - accuracy: 0.9880 - val_loss_val: 21.7348 - val_val_accuracy: 0.9465 - 31s/epoch - 543ms/step\n",
      "Epoch 46/50\n",
      "57/57 - 32s - loss: 1.6582 - accuracy: 0.9891 - val_loss_val: 22.1292 - val_val_accuracy: 0.9458 - 32s/epoch - 561ms/step\n",
      "Epoch 47/50\n",
      "57/57 - 31s - loss: 1.5509 - accuracy: 0.9899 - val_loss_val: 22.2101 - val_val_accuracy: 0.9452 - 31s/epoch - 550ms/step\n",
      "Epoch 48/50\n",
      "57/57 - 31s - loss: 1.4598 - accuracy: 0.9906 - val_loss_val: 22.6668 - val_val_accuracy: 0.9463 - 31s/epoch - 549ms/step\n",
      "Epoch 49/50\n",
      "57/57 - 32s - loss: 1.3696 - accuracy: 0.9914 - val_loss_val: 22.7152 - val_val_accuracy: 0.9452 - 32s/epoch - 554ms/step\n",
      "Epoch 50/50\n",
      "57/57 - 31s - loss: 1.2969 - accuracy: 0.9921 - val_loss_val: 23.4794 - val_val_accuracy: 0.9460 - 31s/epoch - 550ms/step\n"
     ]
    }
   ],
   "source": [
    "history = model.fit(\n",
    "    x=X_train, \n",
    "    y=y_train, \n",
    "    epochs=50, \n",
    "    batch_size=256, \n",
    "    validation_data=(X_valid, y_valid), \n",
    "    verbose=2, \n",
    "    callbacks=[model_checkpoint_callback]\n",
    ") # type: ignore"
   ]
  },
  {
   "cell_type": "code",
   "execution_count": 9,
   "metadata": {},
   "outputs": [
    {
     "data": {
      "text/plain": [
       "<tensorflow.python.checkpoint.checkpoint.CheckpointLoadStatus at 0x1be17a11088>"
      ]
     },
     "execution_count": 9,
     "metadata": {},
     "output_type": "execute_result"
    }
   ],
   "source": [
    "model.load_weights(checkpoint_filepath)"
   ]
  },
  {
   "cell_type": "code",
   "execution_count": 10,
   "metadata": {},
   "outputs": [
    {
     "name": "stdout",
     "output_type": "stream",
     "text": [
      "Loss\n"
     ]
    },
    {
     "data": {
      "image/png": "[encoded data removed]",
      "text/plain": [
       "<Figure size 2000x400 with 2 Axes>"
      ]
     },
     "metadata": {},
     "output_type": "display_data"
    }
   ],
   "source": [
    "hist = pd.DataFrame(history.history)\n",
    "plt.figure(figsize=(20,4))\n",
    "plt.subplot(1, 2, 1)\n",
    "plt.title(\"Accuracy\")\n",
    "plt.plot(hist[\"accuracy\"], label=\"train\", marker=\"o\", c=\"red\")\n",
    "plt.plot(hist[\"val_val_accuracy\"], label=\"validation\", marker=\"o\", c=\"green\")\n",
    "plt.legend()\n",
    "# plt.show()\n",
    "plt.subplot(1, 2, 2)\n",
    "print(\"Loss\")\n",
    "plt.plot(hist[\"loss\"], label=\"train\", marker=\"o\", c=\"red\")\n",
    "plt.plot(hist[\"val_loss_val\"], label=\"validation\", marker=\"o\", c=\"green\")\n",
    "plt.legend()\n",
    "plt.show()"
   ]
  },
  {
   "cell_type": "code",
   "execution_count": 11,
   "metadata": {},
   "outputs": [
    {
     "name": "stdout",
     "output_type": "stream",
     "text": [
      "449/449 [==============================] - 19s 42ms/step\n",
      "Shape of y_pred: (14352, 52)\n",
      "24/24 [==============================] - 1s 27ms/step\n",
      "Shape of y_pred: (755, 52)\n",
      "6611/6611 [==============================] - 307s 46ms/step\n",
      "Shape of y_pred: (211527, 52)\n"
     ]
    }
   ],
   "source": [
    "ds = DataSaver()\n",
    "train_report_df = obj.inference(model, X_train, y_train, idx2tag, train_sentences)\n",
    "ds.save_report(train_report_df, \"lstmcrf_ep50\", \"train\")\n",
    "\n",
    "valid_report_df = obj.inference(model, X_valid, y_valid, idx2tag, valid_sentences)\n",
    "ds.save_report(valid_report_df, \"lstmcrf_ep50\", \"valid\")\n",
    "\n",
    "test_report_df = obj.inference(model, X_test, y_test, idx2tag, test_sentences)\n",
    "ds.save_report(test_report_df, \"lstmcrf_ep50\", \"test\")"
   ]
  },
  {
   "cell_type": "code",
   "execution_count": null,
   "metadata": {},
   "outputs": [],
   "source": []
  },
  {
   "cell_type": "code",
   "execution_count": null,
   "metadata": {},
   "outputs": [],
   "source": []
  }
 ],
 "metadata": {
  "kernelspec": {
   "display_name": "nlp",
   "language": "python",
   "name": "python3"
  },
  "language_info": {
   "codemirror_mode": {
    "name": "ipython",
    "version": 3
   },
   "file_extension": ".py",
   "mimetype": "text/x-python",
   "name": "python",
   "nbconvert_exporter": "python",
   "pygments_lexer": "ipython3",
   "version": "3.7.16"
  },
  "orig_nbformat": 4
 },
 "nbformat": 4,
 "nbformat_minor": 2
}
