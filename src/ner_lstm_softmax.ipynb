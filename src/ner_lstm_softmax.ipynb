{
 "cells": [
  {
   "cell_type": "code",
   "execution_count": 1,
   "metadata": {},
   "outputs": [],
   "source": [
    "import os\n",
    "import sys\n",
    "import warnings\n",
    "from datetime import datetime, timedelta\n",
    "warnings.filterwarnings(\"ignore\")\n",
    "PACKAGE_ROOT = os.path.dirname(os.path.abspath(\"\"))\n",
    "# print(PACKAGE_ROOT)\n",
    "sys.path.insert(0, PACKAGE_ROOT)\n",
    "\n",
    "import numpy as np\n",
    "import pandas as pd\n",
    "import tensorflow as tf\n",
    "from tensorflow.keras import Input, Model\n",
    "from tensorflow.keras.layers import \\\n",
    "    Embedding, LSTM, Bidirectional, TimeDistributed, Dense, Dropout\n",
    "pd.set_option(\"display.max_rows\", None)\n",
    "pd.set_option(\"display.max_columns\", None)\n",
    "import matplotlib.pyplot as plt\n",
    "plt.style.use(\"ggplot\")\n",
    "\n",
    "from preprocessing.lstm_softmax_preprocessor import LSTMSoftmaxPreprocessor\n",
    "from utils.utils import get_connl_data\n",
    "from commons import constants as C\n",
    "from data.ingestor import DataSaver"
   ]
  },
  {
   "cell_type": "code",
   "execution_count": 2,
   "metadata": {},
   "outputs": [],
   "source": [
    "train_df = get_connl_data(\"train\")\n",
    "valid_df = get_connl_data(\"valid\")\n",
    "test_df = get_connl_data(\"test\")\n",
    "\n",
    "obj = LSTMSoftmaxPreprocessor()\n",
    "train_sentences = obj.get_sentences(train_df)\n",
    "valid_sentences = obj.get_sentences(valid_df)\n",
    "test_sentences = obj.get_sentences(test_df)"
   ]
  },
  {
   "cell_type": "code",
   "execution_count": 3,
   "metadata": {},
   "outputs": [
    {
     "name": "stdout",
     "output_type": "stream",
     "text": [
      "Number of words: 29574\n",
      "Number of tags: 67\n",
      "Maximum length of sentence: 52\n"
     ]
    }
   ],
   "source": [
    "words = obj.get_words(train_df)\n",
    "n_words = len(words)\n",
    "print(f\"Number of words: {n_words}\")\n",
    "tags = obj.get_tags(train_df)\n",
    "# print(tags)\n",
    "n_tags = len(tags)\n",
    "print(f\"Number of tags: {n_tags}\")\n",
    "max_length = obj.get_max_length(train_sentences)\n",
    "print(f\"Maximum length of sentence: {max_length}\")"
   ]
  },
  {
   "cell_type": "code",
   "execution_count": 4,
   "metadata": {},
   "outputs": [],
   "source": [
    "word2idx, idx2word, tag2idx, idx2tag = obj.get_indices(words, tags)\n",
    "X_train, y_train = obj.preprocess(\n",
    "    train_sentences, word2idx, tag2idx, max_length, n_tags, n_words\n",
    ")\n",
    "\n",
    "X_valid, y_valid = obj.preprocess(\n",
    "    valid_sentences, word2idx, tag2idx, max_length, n_tags, n_words\n",
    ")\n",
    "\n",
    "X_test, y_test = obj.preprocess(\n",
    "    test_sentences, word2idx, tag2idx, max_length, n_tags, n_words\n",
    ")"
   ]
  },
  {
   "cell_type": "code",
   "execution_count": 9,
   "metadata": {},
   "outputs": [
    {
     "name": "stdout",
     "output_type": "stream",
     "text": [
      "Model: \"model\"\n",
      "_________________________________________________________________\n",
      " Layer (type)                Output Shape              Param #   \n",
      "=================================================================\n",
      " input_1 (InputLayer)        [(None, 52)]              0         \n",
      "                                                                 \n",
      " embedding (Embedding)       (None, 52, 50)            1478700   \n",
      "                                                                 \n",
      " dropout (Dropout)           (None, 52, 50)            0         \n",
      "                                                                 \n",
      " bidirectional (Bidirectiona  (None, 52, 200)          120800    \n",
      " l)                                                              \n",
      "                                                                 \n",
      " time_distributed (TimeDistr  (None, 52, 67)           13467     \n",
      " ibuted)                                                         \n",
      "                                                                 \n",
      "=================================================================\n",
      "Total params: 1,612,967\n",
      "Trainable params: 1,612,967\n",
      "Non-trainable params: 0\n",
      "_________________________________________________________________\n"
     ]
    }
   ],
   "source": [
    "input = Input(shape=(max_length,))\n",
    "model = Embedding(input_dim=n_words, output_dim=50, input_length=max_length)(input)  # 50-dim embedding\n",
    "model = Dropout(0.1)(model)\n",
    "model = Bidirectional(LSTM(units=100, return_sequences=True, recurrent_dropout=0.1))(model)  # biderctional biLSTM\n",
    "out = TimeDistributed(Dense(n_tags, activation=\"softmax\"))(model)  # softmax output layer\n",
    "model = Model(input, out)\n",
    "# compile\n",
    "model.compile(optimizer=\"rmsprop\", loss=\"categorical_crossentropy\", metrics=[\"accuracy\"])\n",
    "# show summary\n",
    "model.summary()"
   ]
  },
  {
   "cell_type": "code",
   "execution_count": 8,
   "metadata": {},
   "outputs": [
    {
     "name": "stdout",
     "output_type": "stream",
     "text": [
      "C:\\Users\\sharm\\Documents\\workspace\\gitworks\\ner-bilstm-crf\\outputs\\model_artifacts\\lstmsoftmax-model-26-03-2023-02-15-41\n"
     ]
    }
   ],
   "source": [
    "model_type = \"lstmsoftmax\"\n",
    "now = datetime.utcnow() + timedelta(hours=5, minutes=30)\n",
    "FOLDER_NAME = f\"{model_type}-model-\"+now.strftime(\"%d-%m-%Y-%H-%M-%S\")\n",
    "FOLDER_PATH = os.path.join(C.MODELS_OUTPUT_DIR, FOLDER_NAME)\n",
    "print(FOLDER_PATH)\n",
    "if not os.path.exists(FOLDER_PATH):\n",
    "    os.makedirs(FOLDER_PATH)\n",
    "checkpoint_filepath = os.path.join(FOLDER_PATH, \"checkpoint\")\n",
    "# FILE_PATH = os.path.join(C.MODELS_OUTPUT_DIR, FILE_NAME)\n",
    "model_checkpoint_callback = tf.keras.callbacks.ModelCheckpoint(\n",
    "    filepath=checkpoint_filepath,\n",
    "    save_weights_only=True,\n",
    "    monitor='val_accuracy',\n",
    "    mode='max',\n",
    "    save_best_only=True)"
   ]
  },
  {
   "cell_type": "code",
   "execution_count": 7,
   "metadata": {},
   "outputs": [
    {
     "name": "stdout",
     "output_type": "stream",
     "text": [
      "Epoch 1/50\n",
      "113/113 [==============================] - 21s 166ms/step - loss: 0.5768 - accuracy: 0.9315 - val_loss: 0.3764 - val_accuracy: 0.9404\n",
      "Epoch 2/50\n",
      "113/113 [==============================] - 18s 158ms/step - loss: 0.3714 - accuracy: 0.9398 - val_loss: 0.3646 - val_accuracy: 0.9404\n",
      "Epoch 3/50\n",
      "113/113 [==============================] - 23s 201ms/step - loss: 0.3536 - accuracy: 0.9398 - val_loss: 0.3414 - val_accuracy: 0.9404\n",
      "Epoch 4/50\n",
      "113/113 [==============================] - 27s 243ms/step - loss: 0.3361 - accuracy: 0.9398 - val_loss: 0.3273 - val_accuracy: 0.9404\n",
      "Epoch 5/50\n",
      "113/113 [==============================] - 27s 242ms/step - loss: 0.3216 - accuracy: 0.9398 - val_loss: 0.3152 - val_accuracy: 0.9404\n",
      "Epoch 6/50\n",
      "113/113 [==============================] - 27s 240ms/step - loss: 0.3101 - accuracy: 0.9400 - val_loss: 0.3136 - val_accuracy: 0.9406\n",
      "Epoch 7/50\n",
      "113/113 [==============================] - 27s 237ms/step - loss: 0.3004 - accuracy: 0.9404 - val_loss: 0.3019 - val_accuracy: 0.9409\n",
      "Epoch 8/50\n",
      "113/113 [==============================] - 28s 243ms/step - loss: 0.2919 - accuracy: 0.9411 - val_loss: 0.2926 - val_accuracy: 0.9420\n",
      "Epoch 9/50\n",
      "113/113 [==============================] - 27s 236ms/step - loss: 0.2842 - accuracy: 0.9419 - val_loss: 0.2911 - val_accuracy: 0.9431\n",
      "Epoch 10/50\n",
      "113/113 [==============================] - 26s 230ms/step - loss: 0.2772 - accuracy: 0.9427 - val_loss: 0.2821 - val_accuracy: 0.9436\n",
      "Epoch 11/50\n",
      "113/113 [==============================] - 26s 234ms/step - loss: 0.2697 - accuracy: 0.9436 - val_loss: 0.2779 - val_accuracy: 0.9437\n",
      "Epoch 12/50\n",
      "113/113 [==============================] - 26s 231ms/step - loss: 0.2626 - accuracy: 0.9443 - val_loss: 0.2710 - val_accuracy: 0.9449\n",
      "Epoch 13/50\n",
      "113/113 [==============================] - 27s 235ms/step - loss: 0.2549 - accuracy: 0.9454 - val_loss: 0.2658 - val_accuracy: 0.9462\n",
      "Epoch 14/50\n",
      "113/113 [==============================] - 27s 238ms/step - loss: 0.2468 - accuracy: 0.9468 - val_loss: 0.2633 - val_accuracy: 0.9469\n",
      "Epoch 15/50\n",
      "113/113 [==============================] - 26s 231ms/step - loss: 0.2390 - accuracy: 0.9477 - val_loss: 0.2596 - val_accuracy: 0.9467\n",
      "Epoch 16/50\n",
      "113/113 [==============================] - 26s 226ms/step - loss: 0.2315 - accuracy: 0.9484 - val_loss: 0.2503 - val_accuracy: 0.9483\n",
      "Epoch 17/50\n",
      "113/113 [==============================] - 27s 238ms/step - loss: 0.2238 - accuracy: 0.9492 - val_loss: 0.2497 - val_accuracy: 0.9470\n",
      "Epoch 18/50\n",
      "113/113 [==============================] - 27s 239ms/step - loss: 0.2167 - accuracy: 0.9500 - val_loss: 0.2446 - val_accuracy: 0.9497\n",
      "Epoch 19/50\n",
      "113/113 [==============================] - 27s 236ms/step - loss: 0.2097 - accuracy: 0.9509 - val_loss: 0.2388 - val_accuracy: 0.9498\n",
      "Epoch 20/50\n",
      "113/113 [==============================] - 26s 230ms/step - loss: 0.2039 - accuracy: 0.9520 - val_loss: 0.2339 - val_accuracy: 0.9494\n",
      "Epoch 21/50\n",
      "113/113 [==============================] - 26s 229ms/step - loss: 0.1981 - accuracy: 0.9529 - val_loss: 0.2319 - val_accuracy: 0.9501\n",
      "Epoch 22/50\n",
      "113/113 [==============================] - 26s 231ms/step - loss: 0.1927 - accuracy: 0.9536 - val_loss: 0.2295 - val_accuracy: 0.9508\n",
      "Epoch 23/50\n",
      "113/113 [==============================] - 26s 227ms/step - loss: 0.1868 - accuracy: 0.9545 - val_loss: 0.2323 - val_accuracy: 0.9515\n",
      "Epoch 24/50\n",
      "113/113 [==============================] - 26s 234ms/step - loss: 0.1825 - accuracy: 0.9553 - val_loss: 0.2788 - val_accuracy: 0.9361\n",
      "Epoch 25/50\n",
      "113/113 [==============================] - 34s 298ms/step - loss: 0.1781 - accuracy: 0.9559 - val_loss: 0.2380 - val_accuracy: 0.9469\n",
      "Epoch 26/50\n",
      "113/113 [==============================] - 29s 254ms/step - loss: 0.1736 - accuracy: 0.9567 - val_loss: 0.2250 - val_accuracy: 0.9506\n",
      "Epoch 27/50\n",
      "113/113 [==============================] - 28s 249ms/step - loss: 0.1689 - accuracy: 0.9577 - val_loss: 0.2317 - val_accuracy: 0.9489\n",
      "Epoch 28/50\n",
      "113/113 [==============================] - 32s 287ms/step - loss: 0.1649 - accuracy: 0.9583 - val_loss: 0.2236 - val_accuracy: 0.9511\n",
      "Epoch 29/50\n",
      "113/113 [==============================] - 26s 232ms/step - loss: 0.1612 - accuracy: 0.9592 - val_loss: 0.2243 - val_accuracy: 0.9523\n",
      "Epoch 30/50\n",
      "113/113 [==============================] - 26s 229ms/step - loss: 0.1573 - accuracy: 0.9600 - val_loss: 0.2224 - val_accuracy: 0.9530\n",
      "Epoch 31/50\n",
      "113/113 [==============================] - 26s 230ms/step - loss: 0.1535 - accuracy: 0.9607 - val_loss: 0.2337 - val_accuracy: 0.9477\n",
      "Epoch 32/50\n",
      "113/113 [==============================] - 25s 225ms/step - loss: 0.1496 - accuracy: 0.9616 - val_loss: 0.2205 - val_accuracy: 0.9514\n",
      "Epoch 33/50\n",
      "113/113 [==============================] - 28s 249ms/step - loss: 0.1458 - accuracy: 0.9624 - val_loss: 0.2286 - val_accuracy: 0.9490\n",
      "Epoch 34/50\n",
      "113/113 [==============================] - 29s 258ms/step - loss: 0.1425 - accuracy: 0.9633 - val_loss: 0.2187 - val_accuracy: 0.9529\n",
      "Epoch 35/50\n",
      "113/113 [==============================] - 29s 258ms/step - loss: 0.1391 - accuracy: 0.9640 - val_loss: 0.2188 - val_accuracy: 0.9515\n",
      "Epoch 36/50\n",
      "113/113 [==============================] - 29s 255ms/step - loss: 0.1356 - accuracy: 0.9648 - val_loss: 0.2242 - val_accuracy: 0.9524\n",
      "Epoch 37/50\n",
      "113/113 [==============================] - 29s 254ms/step - loss: 0.1322 - accuracy: 0.9656 - val_loss: 0.2200 - val_accuracy: 0.9521\n",
      "Epoch 38/50\n",
      "113/113 [==============================] - 28s 252ms/step - loss: 0.1288 - accuracy: 0.9665 - val_loss: 0.2380 - val_accuracy: 0.9480\n",
      "Epoch 39/50\n",
      "113/113 [==============================] - 29s 259ms/step - loss: 0.1255 - accuracy: 0.9671 - val_loss: 0.2212 - val_accuracy: 0.9513\n",
      "Epoch 40/50\n",
      "113/113 [==============================] - 25s 225ms/step - loss: 0.1225 - accuracy: 0.9677 - val_loss: 0.2300 - val_accuracy: 0.9514\n",
      "Epoch 41/50\n",
      "113/113 [==============================] - 26s 226ms/step - loss: 0.1192 - accuracy: 0.9685 - val_loss: 0.2303 - val_accuracy: 0.9497\n",
      "Epoch 42/50\n",
      "113/113 [==============================] - 26s 229ms/step - loss: 0.1162 - accuracy: 0.9692 - val_loss: 0.2313 - val_accuracy: 0.9504\n",
      "Epoch 43/50\n",
      "113/113 [==============================] - 32s 285ms/step - loss: 0.1135 - accuracy: 0.9699 - val_loss: 0.2292 - val_accuracy: 0.9513\n",
      "Epoch 44/50\n",
      "113/113 [==============================] - 27s 237ms/step - loss: 0.1106 - accuracy: 0.9705 - val_loss: 0.2252 - val_accuracy: 0.9539\n",
      "Epoch 45/50\n",
      "113/113 [==============================] - 26s 227ms/step - loss: 0.1074 - accuracy: 0.9716 - val_loss: 0.2293 - val_accuracy: 0.9534\n",
      "Epoch 46/50\n",
      "113/113 [==============================] - 26s 230ms/step - loss: 0.1044 - accuracy: 0.9722 - val_loss: 0.2717 - val_accuracy: 0.9389\n",
      "Epoch 47/50\n",
      "113/113 [==============================] - 29s 254ms/step - loss: 0.1020 - accuracy: 0.9727 - val_loss: 0.2298 - val_accuracy: 0.9520\n",
      "Epoch 48/50\n",
      "113/113 [==============================] - 32s 282ms/step - loss: 0.0989 - accuracy: 0.9735 - val_loss: 0.2399 - val_accuracy: 0.9477\n",
      "Epoch 49/50\n",
      "113/113 [==============================] - 27s 241ms/step - loss: 0.0967 - accuracy: 0.9741 - val_loss: 0.2299 - val_accuracy: 0.9517\n",
      "Epoch 50/50\n",
      "113/113 [==============================] - 28s 246ms/step - loss: 0.0942 - accuracy: 0.9747 - val_loss: 0.2500 - val_accuracy: 0.9461\n"
     ]
    }
   ],
   "source": [
    "history = model.fit(\n",
    "    X_train, np.array(y_train), \n",
    "    batch_size=128, \n",
    "    epochs=50, \n",
    "    validation_data=(X_valid, np.array(y_valid)), \n",
    "    verbose=1, \n",
    "    callbacks=[model_checkpoint_callback]\n",
    ")"
   ]
  },
  {
   "cell_type": "code",
   "execution_count": 11,
   "metadata": {},
   "outputs": [
    {
     "data": {
      "text/plain": [
       "<tensorflow.python.checkpoint.checkpoint.CheckpointLoadStatus at 0x21c81f98748>"
      ]
     },
     "execution_count": 11,
     "metadata": {},
     "output_type": "execute_result"
    }
   ],
   "source": [
    "filepath = r\"C:\\Users\\sharm\\Documents\\workspace\\gitworks\\ner-bilstm-crf\\outputs\\model_artifacts\\lstmcrf-model-26-03-2023-01-12-32\\checkpoint\"\n",
    "model.load_weights(filepath)"
   ]
  },
  {
   "cell_type": "code",
   "execution_count": 8,
   "metadata": {},
   "outputs": [
    {
     "name": "stdout",
     "output_type": "stream",
     "text": [
      "Loss\n"
     ]
    },
    {
     "data": {
      "image/png": "[encoded data removed]",
      "text/plain": [
       "<Figure size 2000x400 with 2 Axes>"
      ]
     },
     "metadata": {},
     "output_type": "display_data"
    }
   ],
   "source": [
    "hist = pd.DataFrame(history.history)\n",
    "plt.figure(figsize=(20,4))\n",
    "plt.subplot(1, 2, 1)\n",
    "plt.title(\"Accuracy\")\n",
    "plt.plot(hist[\"accuracy\"], label=\"train\", marker=\"o\", c=\"red\")\n",
    "plt.plot(hist[\"val_accuracy\"], label=\"validation\", marker=\"o\", c=\"green\")\n",
    "plt.legend()\n",
    "# plt.show()\n",
    "plt.subplot(1, 2, 2)\n",
    "print(\"Loss\")\n",
    "plt.plot(hist[\"loss\"], label=\"train\", marker=\"o\", c=\"red\")\n",
    "plt.plot(hist[\"val_loss\"], label=\"validation\", marker=\"o\", c=\"green\")\n",
    "plt.legend()\n",
    "plt.show()"
   ]
  },
  {
   "cell_type": "code",
   "execution_count": 9,
   "metadata": {},
   "outputs": [
    {
     "name": "stdout",
     "output_type": "stream",
     "text": [
      "449/449 [==============================] - 12s 26ms/step\n",
      "24/24 [==============================] - 1s 30ms/step\n",
      "6611/6611 [==============================] - 197s 30ms/step\n"
     ]
    }
   ],
   "source": [
    "ds = DataSaver()\n",
    "train_report_df = obj.inference(model, X_train, idx2tag, train_sentences)\n",
    "ds.save_report(train_report_df, \"lstmsoftmax\", \"train\")\n",
    "\n",
    "valid_report_df = obj.inference(model, X_valid, idx2tag, valid_sentences)\n",
    "ds.save_report(valid_report_df, \"lstmsoftmax\", \"valid\")\n",
    "\n",
    "test_report_df = obj.inference(model, X_test, idx2tag, test_sentences)\n",
    "ds.save_report(test_report_df, \"lstmsoftmax\", \"test\")"
   ]
  },
  {
   "cell_type": "code",
   "execution_count": null,
   "metadata": {},
   "outputs": [],
   "source": []
  },
  {
   "cell_type": "code",
   "execution_count": null,
   "metadata": {},
   "outputs": [],
   "source": []
  },
  {
   "cell_type": "code",
   "execution_count": null,
   "metadata": {},
   "outputs": [],
   "source": []
  },
  {
   "attachments": {},
   "cell_type": "markdown",
   "metadata": {},
   "source": [
    "## METRICS"
   ]
  },
  {
   "cell_type": "code",
   "execution_count": 7,
   "metadata": {},
   "outputs": [],
   "source": [
    "import os\n",
    "import plotly.express as px\n",
    "from datetime import datetime, timedelta\n",
    "import pandas as pd"
   ]
  },
  {
   "cell_type": "code",
   "execution_count": 8,
   "metadata": {},
   "outputs": [
    {
     "name": "stdout",
     "output_type": "stream",
     "text": [
      "tagger train\n",
      "tagger valid\n",
      "tagger test\n",
      "crf train\n",
      "crf valid\n",
      "crf test\n",
      "lstmsoftmax train\n",
      "lstmsoftmax valid\n",
      "lstmsoftmax test\n",
      "lstmcrf train\n",
      "lstmcrf valid\n",
      "lstmcrf test\n"
     ]
    },
    {
     "data": {
      "text/plain": [
       "['tagger-model-train-data-25-03-2023-17-29-25.csv',\n",
       " 'tagger-model-valid-data-25-03-2023-17-29-25.csv',\n",
       " 'tagger-model-test-data-25-03-2023-17-29-25.csv',\n",
       " 'crf-model-train-data-25-03-2023-17-29-30.csv',\n",
       " 'crf-model-valid-data-25-03-2023-17-29-30.csv',\n",
       " 'crf-model-test-data-25-03-2023-17-30-16.csv',\n",
       " 'lstmsoftmax-model-train-data-26-03-2023-01-03-50.csv',\n",
       " 'lstmsoftmax-model-valid-data-26-03-2023-01-03-50.csv',\n",
       " 'lstmsoftmax-model-test-data-26-03-2023-01-07-47.csv',\n",
       " 'lstmcrf_ep50-model-train-data-26-03-2023-01-39-45.csv',\n",
       " 'lstmcrf_ep50-model-valid-data-26-03-2023-01-39-46.csv',\n",
       " 'lstmcrf_ep50-model-test-data-26-03-2023-01-45-04.csv']"
      ]
     },
     "execution_count": 8,
     "metadata": {},
     "output_type": "execute_result"
    }
   ],
   "source": [
    "METRICS_DIR = r\"C:\\Users\\sharm\\Documents\\workspace\\gitworks\\ner-bilstm-crf\\outputs\\metrics\"\n",
    "model_names = [\"tagger\", \"crf\", \"lstmsoftmax\", \"lstmcrf\"]\n",
    "split_types = [\"train\", \"valid\", \"test\"]\n",
    "\n",
    "file_names = os.listdir(METRICS_DIR)\n",
    "\n",
    "latest_reports = []\n",
    "for mname in model_names:\n",
    "    reports = [fname for fname in file_names if fname.startswith(mname)]\n",
    "    if len(reports) == 0:\n",
    "        continue\n",
    "    for st in split_types:\n",
    "        print(mname, st)\n",
    "        fnames = [report for report in reports if st in report]\n",
    "        if len(fnames) == 0:\n",
    "            continue\n",
    "        fnames = [(fname, \n",
    "                datetime.strptime(\"-\".join(fname.split(\".\")[0].split(\"-\")[4:]), \"%d-%m-%Y-%H-%M-%S\"))\n",
    "                for fname in fnames]\n",
    "        fnames = sorted(fnames, reverse=True, key=lambda s: s[1])\n",
    "        latest_reports.append(fnames[0])\n",
    "\n",
    "latest_reports = [lr[0] for lr in latest_reports]\n",
    "latest_reports"
   ]
  },
  {
   "cell_type": "code",
   "execution_count": 2,
   "metadata": {},
   "outputs": [
    {
     "ename": "NameError",
     "evalue": "name 'latest_reports' is not defined",
     "output_type": "error",
     "traceback": [
      "\u001b[1;31m---------------------------------------------------------------------------\u001b[0m",
      "\u001b[1;31mNameError\u001b[0m                                 Traceback (most recent call last)",
      "\u001b[1;32m~\\AppData\\Local\\Temp\\ipykernel_21524\\3346569398.py\u001b[0m in \u001b[0;36m<module>\u001b[1;34m\u001b[0m\n\u001b[0;32m      1\u001b[0m \u001b[0mall_reports\u001b[0m \u001b[1;33m=\u001b[0m \u001b[1;33m[\u001b[0m\u001b[1;33m]\u001b[0m\u001b[1;33m\u001b[0m\u001b[1;33m\u001b[0m\u001b[0m\n\u001b[1;32m----> 2\u001b[1;33m \u001b[1;32mfor\u001b[0m \u001b[0mfname\u001b[0m \u001b[1;32min\u001b[0m \u001b[0mlatest_reports\u001b[0m\u001b[1;33m:\u001b[0m\u001b[1;33m\u001b[0m\u001b[1;33m\u001b[0m\u001b[0m\n\u001b[0m\u001b[0;32m      3\u001b[0m     \u001b[0mname_list\u001b[0m \u001b[1;33m=\u001b[0m \u001b[0mfname\u001b[0m\u001b[1;33m.\u001b[0m\u001b[0msplit\u001b[0m\u001b[1;33m(\u001b[0m\u001b[1;34m\"-\"\u001b[0m\u001b[1;33m)\u001b[0m\u001b[1;33m\u001b[0m\u001b[1;33m\u001b[0m\u001b[0m\n\u001b[0;32m      4\u001b[0m     \u001b[0mmodel_name\u001b[0m \u001b[1;33m=\u001b[0m \u001b[0mname_list\u001b[0m\u001b[1;33m[\u001b[0m\u001b[1;36m0\u001b[0m\u001b[1;33m]\u001b[0m\u001b[1;33m\u001b[0m\u001b[1;33m\u001b[0m\u001b[0m\n\u001b[0;32m      5\u001b[0m     \u001b[0msplit_type\u001b[0m \u001b[1;33m=\u001b[0m \u001b[0mname_list\u001b[0m\u001b[1;33m[\u001b[0m\u001b[1;36m2\u001b[0m\u001b[1;33m]\u001b[0m\u001b[1;33m\u001b[0m\u001b[1;33m\u001b[0m\u001b[0m\n",
      "\u001b[1;31mNameError\u001b[0m: name 'latest_reports' is not defined"
     ]
    }
   ],
   "source": [
    "all_reports = []\n",
    "for fname in latest_reports:\n",
    "    name_list = fname.split(\"-\")\n",
    "    model_name = name_list[0]\n",
    "    split_type = name_list[2]\n",
    "\n",
    "    report_df = pd.read_csv(os.path.join(METRICS_DIR, fname))\n",
    "    report_df.columns = [\"tag_type\", \"precision\", \"recall\", \"f1_score\", \"support\"]\n",
    "    report_df[\"model_name\"] = model_name\n",
    "    report_df[\"split_type\"] = split_type\n",
    "    # print(report_df.to_dict(\"records\"))\n",
    "    all_reports.extend(report_df.to_dict(\"records\"))\n",
    "    # break\n",
    "all_reports_df = pd.DataFrame(all_reports)\n",
    "all_reports_df.head()"
   ]
  },
  {
   "cell_type": "code",
   "execution_count": 1,
   "metadata": {},
   "outputs": [
    {
     "ename": "NameError",
     "evalue": "name 'all_reports_df' is not defined",
     "output_type": "error",
     "traceback": [
      "\u001b[1;31m---------------------------------------------------------------------------\u001b[0m",
      "\u001b[1;31mNameError\u001b[0m                                 Traceback (most recent call last)",
      "\u001b[1;32m~\\AppData\\Local\\Temp\\ipykernel_21524\\1891291899.py\u001b[0m in \u001b[0;36m<module>\u001b[1;34m\u001b[0m\n\u001b[0;32m      1\u001b[0m \u001b[1;31m# tmp_df = all_reports_df[all_reports_df[\"split_type\"] == \"train\"]\u001b[0m\u001b[1;33m\u001b[0m\u001b[1;33m\u001b[0m\u001b[1;33m\u001b[0m\u001b[0m\n\u001b[1;32m----> 2\u001b[1;33m \u001b[0mtmp_df\u001b[0m \u001b[1;33m=\u001b[0m \u001b[0mall_reports_df\u001b[0m\u001b[1;33m[\u001b[0m\u001b[0mall_reports_df\u001b[0m\u001b[1;33m[\u001b[0m\u001b[1;34m\"model_name\"\u001b[0m\u001b[1;33m]\u001b[0m \u001b[1;33m==\u001b[0m \u001b[1;34m\"tagger\"\u001b[0m\u001b[1;33m]\u001b[0m\u001b[1;33m\u001b[0m\u001b[1;33m\u001b[0m\u001b[0m\n\u001b[0m\u001b[0;32m      3\u001b[0m \u001b[1;31m# tmp_df = all_reports_df\u001b[0m\u001b[1;33m\u001b[0m\u001b[1;33m\u001b[0m\u001b[1;33m\u001b[0m\u001b[0m\n\u001b[0;32m      4\u001b[0m \u001b[0mfig\u001b[0m \u001b[1;33m=\u001b[0m \u001b[0mpx\u001b[0m\u001b[1;33m.\u001b[0m\u001b[0mline\u001b[0m\u001b[1;33m(\u001b[0m\u001b[0mtmp_df\u001b[0m\u001b[1;33m,\u001b[0m \u001b[0mx\u001b[0m\u001b[1;33m=\u001b[0m\u001b[1;34m\"tag_type\"\u001b[0m\u001b[1;33m,\u001b[0m \u001b[0my\u001b[0m\u001b[1;33m=\u001b[0m\u001b[1;34m\"f1_score\"\u001b[0m\u001b[1;33m,\u001b[0m \u001b[0mcolor\u001b[0m\u001b[1;33m=\u001b[0m\u001b[1;34m\"model_name\"\u001b[0m\u001b[1;33m,\u001b[0m \u001b[0mmarkers\u001b[0m\u001b[1;33m=\u001b[0m\u001b[1;34m\"o\"\u001b[0m\u001b[1;33m)\u001b[0m\u001b[1;33m\u001b[0m\u001b[1;33m\u001b[0m\u001b[0m\n\u001b[0;32m      5\u001b[0m \u001b[0mfig\u001b[0m\u001b[1;33m.\u001b[0m\u001b[0mshow\u001b[0m\u001b[1;33m(\u001b[0m\u001b[1;33m)\u001b[0m\u001b[1;33m\u001b[0m\u001b[1;33m\u001b[0m\u001b[0m\n",
      "\u001b[1;31mNameError\u001b[0m: name 'all_reports_df' is not defined"
     ]
    }
   ],
   "source": [
    "# tmp_df = all_reports_df[all_reports_df[\"split_type\"] == \"train\"]\n",
    "tmp_df = all_reports_df[all_reports_df[\"model_name\"] == \"tagger\"]\n",
    "# tmp_df = all_reports_df\n",
    "fig = px.line(tmp_df, x=\"tag_type\", y=\"f1_score\", color=\"model_name\", markers=\"o\")\n",
    "fig.show()"
   ]
  },
  {
   "cell_type": "code",
   "execution_count": 23,
   "metadata": {},
   "outputs": [
    {
     "data": {
      "application/vnd.plotly.v1+json": {
       "config": {
        "plotlyServerURL": "https://plot.ly"
       },
       "data": [
        {
         "hovertemplate": "model_name=tagger<br>tag_type=%{x}<br>f1_score=%{y}<extra></extra>",
         "legendgroup": "tagger",
         "line": {
          "color": "#636efa",
          "dash": "solid"
         },
         "marker": {
          "symbol": "circle"
         },
         "mode": "lines+markers",
         "name": "tagger",
         "orientation": "v",
         "showlegend": true,
         "type": "scatter",
         "x": [
          "B-AerospaceManufacturer",
          "B-AnatomicalStructure",
          "B-ArtWork",
          "B-Artist",
          "B-Athlete",
          "B-CarManufacturer",
          "B-Cleric",
          "B-Clothing",
          "B-Disease",
          "B-Drink",
          "B-Facility",
          "B-Food",
          "B-HumanSettlement",
          "B-MedicalProcedure",
          "B-Medication/Vaccine",
          "B-MusicalGRP",
          "B-MusicalWork",
          "B-ORG",
          "B-OtherLOC",
          "B-OtherPER",
          "B-OtherPROD",
          "B-Politician",
          "B-PrivateCorp",
          "B-PublicCorp",
          "B-Scientist",
          "B-Software",
          "B-SportsGRP",
          "B-SportsManager",
          "B-Station",
          "B-Symptom",
          "B-Vehicle",
          "B-VisualWork",
          "B-WrittenWork",
          "I-AerospaceManufacturer",
          "I-AnatomicalStructure",
          "I-ArtWork",
          "I-Artist",
          "I-Athlete",
          "I-CarManufacturer",
          "I-Cleric",
          "I-Clothing",
          "I-Disease",
          "I-Drink",
          "I-Facility",
          "I-Food",
          "I-HumanSettlement",
          "I-MedicalProcedure",
          "I-Medication/Vaccine",
          "I-MusicalGRP",
          "I-MusicalWork",
          "I-ORG",
          "I-OtherLOC",
          "I-OtherPER",
          "I-OtherPROD",
          "I-Politician",
          "I-PrivateCorp",
          "I-PublicCorp",
          "I-Scientist",
          "I-Software",
          "I-SportsGRP",
          "I-SportsManager",
          "I-Station",
          "I-Symptom",
          "I-Vehicle",
          "I-VisualWork",
          "I-WrittenWork",
          "O",
          "micro avg",
          "macro avg",
          "weighted avg",
          "samples avg",
          "B-AerospaceManufacturer",
          "B-AnatomicalStructure",
          "B-ArtWork",
          "B-Artist",
          "B-Athlete",
          "B-CarManufacturer",
          "B-Cleric",
          "B-Clothing",
          "B-Disease",
          "B-Drink",
          "B-Facility",
          "B-Food",
          "B-HumanSettlement",
          "B-MedicalProcedure",
          "B-Medication/Vaccine",
          "B-MusicalGRP",
          "B-MusicalWork",
          "B-ORG",
          "B-OtherLOC",
          "B-OtherPER",
          "B-OtherPROD",
          "B-Politician",
          "B-PrivateCorp",
          "B-PublicCorp",
          "B-Scientist",
          "B-Software",
          "B-SportsGRP",
          "B-SportsManager",
          "B-Station",
          "B-Symptom",
          "B-Vehicle",
          "B-VisualWork",
          "B-WrittenWork",
          "I-AerospaceManufacturer",
          "I-AnatomicalStructure",
          "I-ArtWork",
          "I-Artist",
          "I-Athlete",
          "I-CarManufacturer",
          "I-Cleric",
          "I-Clothing",
          "I-Disease",
          "I-Drink",
          "I-Facility",
          "I-Food",
          "I-HumanSettlement",
          "I-MedicalProcedure",
          "I-Medication/Vaccine",
          "I-MusicalGRP",
          "I-MusicalWork",
          "I-ORG",
          "I-OtherLOC",
          "I-OtherPER",
          "I-OtherPROD",
          "I-Politician",
          "I-PrivateCorp",
          "I-PublicCorp",
          "I-Scientist",
          "I-Software",
          "I-SportsGRP",
          "I-SportsManager",
          "I-Station",
          "I-Symptom",
          "I-Vehicle",
          "I-VisualWork",
          "I-WrittenWork",
          "O",
          "micro avg",
          "macro avg",
          "weighted avg",
          "samples avg",
          "B-AerospaceManufacturer",
          "B-AnatomicalStructure",
          "B-ArtWork",
          "B-Artist",
          "B-Athlete",
          "B-CarManufacturer",
          "B-Cleric",
          "B-Clothing",
          "B-Disease",
          "B-Drink",
          "B-Facility",
          "B-Food",
          "B-HumanSettlement",
          "B-MedicalProcedure",
          "B-Medication/Vaccine",
          "B-MusicalGRP",
          "B-MusicalWork",
          "B-ORG",
          "B-OtherLOC",
          "B-OtherPER",
          "B-OtherPROD",
          "B-Politician",
          "B-PrivateCorp",
          "B-PublicCorp",
          "B-Scientist",
          "B-Software",
          "B-SportsGRP",
          "B-SportsManager",
          "B-Station",
          "B-Symptom",
          "B-Vehicle",
          "B-VisualWork",
          "B-WrittenWork",
          "I-AerospaceManufacturer",
          "I-AnatomicalStructure",
          "I-ArtWork",
          "I-Artist",
          "I-Athlete",
          "I-CarManufacturer",
          "I-Cleric",
          "I-Clothing",
          "I-Disease",
          "I-Drink",
          "I-Facility",
          "I-Food",
          "I-HumanSettlement",
          "I-MedicalProcedure",
          "I-Medication/Vaccine",
          "I-MusicalGRP",
          "I-MusicalWork",
          "I-ORG",
          "I-OtherLOC",
          "I-OtherPER",
          "I-OtherPROD",
          "I-Politician",
          "I-PrivateCorp",
          "I-PublicCorp",
          "I-Scientist",
          "I-Software",
          "I-SportsGRP",
          "I-SportsManager",
          "I-Station",
          "I-Symptom",
          "I-Vehicle",
          "I-VisualWork",
          "I-WrittenWork",
          "O",
          "micro avg",
          "macro avg",
          "weighted avg",
          "samples avg"
         ],
         "xaxis": "x",
         "y": [
          0.6821705426356589,
          0.8453947368421052,
          0.5276595744680852,
          0.65443654062149,
          0.5821064552661382,
          0.7251184834123222,
          0.6903073286052009,
          0.8125,
          0.8416,
          0.7598784194528876,
          0.6451612903225806,
          0.780590717299578,
          0.7675256303685232,
          0.78125,
          0.9071803852889668,
          0.586864406779661,
          0.4814049586776858,
          0.675109170305677,
          0.5699745547073791,
          0.5907352316192096,
          0.7406733393994541,
          0.5710165825522712,
          0.749185667752443,
          0.7715877437325905,
          0.3772455089820358,
          0.7559808612440192,
          0.6081560283687943,
          0.380327868852459,
          0.704225352112676,
          0.7976190476190476,
          0.705244122965642,
          0.4911742133537989,
          0.5093945720250522,
          0.6231155778894472,
          0.6705882352941177,
          0.6097560975609756,
          0.7738457932973987,
          0.75515895147797,
          0.6495726495726496,
          0.7109974424552431,
          0.5742574257425742,
          0.6953846153846154,
          0.4421052631578948,
          0.6050069541029208,
          0.528,
          0.6539473684210526,
          0.7216494845360825,
          0.6714285714285714,
          0.6178660049627791,
          0.5662285136501516,
          0.6224256292906177,
          0.5870445344129555,
          0.7217630853994491,
          0.5934819897084048,
          0.7496443812233285,
          0.5346534653465347,
          0.4452054794520548,
          0.7511111111111111,
          0.4536082474226804,
          0.742393509127789,
          0.7445255474452556,
          0.7260726072607261,
          0.7050359712230216,
          0.6833333333333333,
          0.5446224256292906,
          0.6758286176232822,
          0.9995116165492222,
          0.7741347495386831,
          0.6599696990466707,
          0.7664608740590367,
          0.7848992518263863,
          0.9,
          0.7407407407407407,
          0.3333333333333333,
          0.5,
          0.282051282051282,
          0.5454545454545454,
          0.4444444444444444,
          0.2666666666666666,
          0.4827586206896552,
          0.7142857142857143,
          0.2857142857142857,
          0.5263157894736842,
          0.5529411764705883,
          0.5263157894736842,
          0.5,
          0.2564102564102564,
          0.0869565217391304,
          0.5245901639344261,
          0.3,
          0.25,
          0.4074074074074074,
          0.2711864406779661,
          0.5714285714285715,
          0.2307692307692307,
          0,
          0.5,
          0.4137931034482758,
          0.1538461538461538,
          0.2,
          0.631578947368421,
          0.4444444444444444,
          0.037037037037037,
          0.4266666666666666,
          0.2222222222222222,
          0.4,
          0.2,
          0.3794871794871794,
          0.2388059701492537,
          0.4444444444444445,
          0.1818181818181818,
          0,
          0.6363636363636365,
          0,
          0.3692307692307692,
          0,
          0.6585365853658536,
          0.6666666666666666,
          0.4,
          0.380952380952381,
          0.2352941176470588,
          0.4888888888888889,
          0.4761904761904762,
          0.2321428571428571,
          0.1538461538461538,
          0.392156862745098,
          0.3636363636363636,
          0.2352941176470588,
          0,
          0,
          0.6153846153846153,
          0.1333333333333333,
          0.6451612903225806,
          0.6666666666666666,
          0.1111111111111111,
          0.0952380952380952,
          0.5079365079365079,
          0.9993373094764744,
          0.6035201482167669,
          0.3707057334013512,
          0.5678566132189906,
          0.6157760708754086,
          0.9,
          0.7407407407407407,
          0.3333333333333333,
          0.5,
          0.282051282051282,
          0.5454545454545454,
          0.4444444444444444,
          0.2666666666666666,
          0.4827586206896552,
          0.7142857142857143,
          0.2857142857142857,
          0.5263157894736842,
          0.5529411764705883,
          0.5263157894736842,
          0.5,
          0.2564102564102564,
          0.0869565217391304,
          0.5245901639344261,
          0.3,
          0.25,
          0.4074074074074074,
          0.2711864406779661,
          0.5714285714285715,
          0.2307692307692307,
          0,
          0.5,
          0.4137931034482758,
          0.1538461538461538,
          0.2,
          0.631578947368421,
          0.4444444444444444,
          0.037037037037037,
          0.4266666666666666,
          0.2222222222222222,
          0.4,
          0.2,
          0.3794871794871794,
          0.2388059701492537,
          0.4444444444444445,
          0.1818181818181818,
          0,
          0.6363636363636365,
          0,
          0.3692307692307692,
          0,
          0.6585365853658536,
          0.6666666666666666,
          0.4,
          0.380952380952381,
          0.2352941176470588,
          0.4888888888888889,
          0.4761904761904762,
          0.2321428571428571,
          0.1538461538461538,
          0.392156862745098,
          0.3636363636363636,
          0.2352941176470588,
          0,
          0,
          0.6153846153846153,
          0.1333333333333333,
          0.6451612903225806,
          0.6666666666666666,
          0.1111111111111111,
          0.0952380952380952,
          0.5079365079365079,
          0.9993373094764744,
          0.6035201482167669,
          0.3707057334013512,
          0.5678566132189906,
          0.6157760708754086
         ],
         "yaxis": "y"
        },
        {
         "hovertemplate": "model_name=crf<br>tag_type=%{x}<br>f1_score=%{y}<extra></extra>",
         "legendgroup": "crf",
         "line": {
          "color": "#EF553B",
          "dash": "solid"
         },
         "marker": {
          "symbol": "circle"
         },
         "mode": "lines+markers",
         "name": "crf",
         "orientation": "v",
         "showlegend": true,
         "type": "scatter",
         "x": [
          "B-AerospaceManufacturer",
          "B-AnatomicalStructure",
          "B-ArtWork",
          "B-Artist",
          "B-Athlete",
          "B-CarManufacturer",
          "B-Cleric",
          "B-Clothing",
          "B-Disease",
          "B-Drink",
          "B-Facility",
          "B-Food",
          "B-HumanSettlement",
          "B-MedicalProcedure",
          "B-Medication/Vaccine",
          "B-MusicalGRP",
          "B-MusicalWork",
          "B-ORG",
          "B-OtherLOC",
          "B-OtherPER",
          "B-OtherPROD",
          "B-Politician",
          "B-PrivateCorp",
          "B-PublicCorp",
          "B-Scientist",
          "B-Software",
          "B-SportsGRP",
          "B-SportsManager",
          "B-Station",
          "B-Symptom",
          "B-Vehicle",
          "B-VisualWork",
          "B-WrittenWork",
          "I-AerospaceManufacturer",
          "I-AnatomicalStructure",
          "I-ArtWork",
          "I-Artist",
          "I-Athlete",
          "I-CarManufacturer",
          "I-Cleric",
          "I-Clothing",
          "I-Disease",
          "I-Drink",
          "I-Facility",
          "I-Food",
          "I-HumanSettlement",
          "I-MedicalProcedure",
          "I-Medication/Vaccine",
          "I-MusicalGRP",
          "I-MusicalWork",
          "I-ORG",
          "I-OtherLOC",
          "I-OtherPER",
          "I-OtherPROD",
          "I-Politician",
          "I-PrivateCorp",
          "I-PublicCorp",
          "I-Scientist",
          "I-Software",
          "I-SportsGRP",
          "I-SportsManager",
          "I-Station",
          "I-Symptom",
          "I-Vehicle",
          "I-VisualWork",
          "I-WrittenWork",
          "O",
          "micro avg",
          "macro avg",
          "weighted avg",
          "samples avg",
          "B-AerospaceManufacturer",
          "B-AnatomicalStructure",
          "B-ArtWork",
          "B-Artist",
          "B-Athlete",
          "B-CarManufacturer",
          "B-Cleric",
          "B-Clothing",
          "B-Disease",
          "B-Drink",
          "B-Facility",
          "B-Food",
          "B-HumanSettlement",
          "B-MedicalProcedure",
          "B-Medication/Vaccine",
          "B-MusicalGRP",
          "B-MusicalWork",
          "B-ORG",
          "B-OtherLOC",
          "B-OtherPER",
          "B-OtherPROD",
          "B-Politician",
          "B-PrivateCorp",
          "B-PublicCorp",
          "B-Scientist",
          "B-Software",
          "B-SportsGRP",
          "B-SportsManager",
          "B-Station",
          "B-Symptom",
          "B-Vehicle",
          "B-VisualWork",
          "B-WrittenWork",
          "I-AerospaceManufacturer",
          "I-AnatomicalStructure",
          "I-ArtWork",
          "I-Artist",
          "I-Athlete",
          "I-CarManufacturer",
          "I-Cleric",
          "I-Clothing",
          "I-Disease",
          "I-Drink",
          "I-Facility",
          "I-Food",
          "I-HumanSettlement",
          "I-MedicalProcedure",
          "I-Medication/Vaccine",
          "I-MusicalGRP",
          "I-MusicalWork",
          "I-ORG",
          "I-OtherLOC",
          "I-OtherPER",
          "I-OtherPROD",
          "I-Politician",
          "I-PrivateCorp",
          "I-PublicCorp",
          "I-Scientist",
          "I-Software",
          "I-SportsGRP",
          "I-SportsManager",
          "I-Station",
          "I-Symptom",
          "I-Vehicle",
          "I-VisualWork",
          "I-WrittenWork",
          "O",
          "micro avg",
          "macro avg",
          "weighted avg",
          "samples avg",
          "B-AerospaceManufacturer",
          "B-AnatomicalStructure",
          "B-ArtWork",
          "B-Artist",
          "B-Athlete",
          "B-CarManufacturer",
          "B-Cleric",
          "B-Clothing",
          "B-Disease",
          "B-Drink",
          "B-Facility",
          "B-Food",
          "B-HumanSettlement",
          "B-MedicalProcedure",
          "B-Medication/Vaccine",
          "B-MusicalGRP",
          "B-MusicalWork",
          "B-ORG",
          "B-OtherLOC",
          "B-OtherPER",
          "B-OtherPROD",
          "B-Politician",
          "B-PrivateCorp",
          "B-PublicCorp",
          "B-Scientist",
          "B-Software",
          "B-SportsGRP",
          "B-SportsManager",
          "B-Station",
          "B-Symptom",
          "B-Vehicle",
          "B-VisualWork",
          "B-WrittenWork",
          "I-AerospaceManufacturer",
          "I-AnatomicalStructure",
          "I-ArtWork",
          "I-Artist",
          "I-Athlete",
          "I-CarManufacturer",
          "I-Cleric",
          "I-Clothing",
          "I-Disease",
          "I-Drink",
          "I-Facility",
          "I-Food",
          "I-HumanSettlement",
          "I-MedicalProcedure",
          "I-Medication/Vaccine",
          "I-MusicalGRP",
          "I-MusicalWork",
          "I-ORG",
          "I-OtherLOC",
          "I-OtherPER",
          "I-OtherPROD",
          "I-Politician",
          "I-PrivateCorp",
          "I-PublicCorp",
          "I-Scientist",
          "I-Software",
          "I-SportsGRP",
          "I-SportsManager",
          "I-Station",
          "I-Symptom",
          "I-Vehicle",
          "I-VisualWork",
          "I-WrittenWork",
          "O",
          "micro avg",
          "macro avg",
          "weighted avg",
          "samples avg"
         ],
         "xaxis": "x",
         "y": [
          0.9770114942528736,
          0.9322314049586776,
          0.9542483660130718,
          0.9866092778574844,
          0.9908256880733944,
          0.9506493506493506,
          0.9779735682819384,
          0.9036144578313252,
          0.9525316455696202,
          0.9408284023668638,
          0.9513641755634638,
          0.8731808731808732,
          0.968795567220764,
          0.9014778325123152,
          0.955719557195572,
          0.9414893617021276,
          0.9398373983739838,
          0.9580390527627752,
          0.9484536082474228,
          0.9799679487179488,
          0.9006968641114982,
          0.9820598006644518,
          0.973293768545994,
          0.9659863945578232,
          0.9896049896049895,
          0.9401330376940134,
          0.9712292938099388,
          0.9797752808988764,
          0.979020979020979,
          0.9176470588235294,
          0.939102564102564,
          0.923519263944796,
          0.9159120310478652,
          0.9950738916256158,
          0.9888888888888888,
          0.981549815498155,
          0.9909319899244332,
          0.991671293725708,
          0.9908256880733944,
          0.9974683544303796,
          0.9917355371900828,
          0.9709302325581396,
          0.96875,
          0.9869055823569952,
          0.967741935483871,
          0.9891756869275604,
          0.995433789954338,
          0.9774436090225564,
          0.9759450171821308,
          0.9699398797595188,
          0.9835164835164836,
          0.9903846153846154,
          0.9883570504527814,
          0.9878542510121456,
          0.9894142554693014,
          0.990909090909091,
          0.9945945945945946,
          0.9977924944812362,
          0.9604989604989604,
          0.9917695473251028,
          0.9953917050691244,
          0.990138067061144,
          1,
          0.9787234042553192,
          0.943472409152086,
          0.9681020733652312,
          1,
          0.97865287279604,
          0.96782329184042,
          0.9780646744371484,
          0.9697743306334444,
          0.8421052631578948,
          0.56,
          0,
          0.6285714285714287,
          0.3409090909090909,
          0.5454545454545454,
          0.4444444444444444,
          0.1666666666666666,
          0.5517241379310345,
          0.8,
          0.5753424657534246,
          0.1428571428571428,
          0.7150837988826816,
          0.3529411764705882,
          0.5263157894736842,
          0.4651162790697674,
          0.4333333333333333,
          0.5289256198347108,
          0.4761904761904761,
          0.3174603174603174,
          0.4255319148936171,
          0.4307692307692307,
          0.5714285714285715,
          0.3333333333333332,
          0.1,
          0.5,
          0.7692307692307692,
          0.2857142857142857,
          0.6666666666666665,
          0.7777777777777777,
          0.5925925925925926,
          0.5238095238095237,
          0.5882352941176471,
          0.8000000000000002,
          0.2857142857142857,
          0,
          0.6244725738396625,
          0.3529411764705882,
          0.6666666666666666,
          0.4285714285714285,
          0,
          0.5714285714285715,
          0.6666666666666666,
          0.6557377049180327,
          0,
          0.8169014084507041,
          0.6,
          0.5,
          0.5294117647058825,
          0.4444444444444445,
          0.568421052631579,
          0.5263157894736842,
          0.3193277310924369,
          0.3571428571428571,
          0.4333333333333332,
          0.6666666666666666,
          0.4,
          0.1052631578947368,
          0.4347826086956522,
          0.8181818181818181,
          0.2857142857142857,
          0.7199999999999999,
          0.8,
          0.5,
          0.5205479452054794,
          0.6909090909090908,
          0.9986737400530504,
          0.6898891653472065,
          0.4935338612786097,
          0.6702462070272814,
          0.6877469991377276,
          0.6325706594885598,
          0.4941243097833782,
          0.3241053342336259,
          0.5906392212410717,
          0.4097782831154065,
          0.5109195402298851,
          0.4176516942474389,
          0.3246753246753247,
          0.556809236420887,
          0.4579863739591219,
          0.5575876527790169,
          0.3046566692975532,
          0.7309898279342113,
          0.4350982066609735,
          0.4732544575904016,
          0.4234144852323895,
          0.4609880959723678,
          0.5686872817641322,
          0.5238753262705359,
          0.3543573091934796,
          0.2660300136425648,
          0.3309233401401844,
          0.5366284201235658,
          0.4254696267382288,
          0.1721427131626688,
          0.4479095604716889,
          0.659374374708197,
          0.2863722001256018,
          0.7139403706688153,
          0.4743178170144462,
          0.3567178202317569,
          0.4210901001112347,
          0.5129042129960216,
          0.6578411405295316,
          0.5090909090909091,
          0.3445692883895131,
          0.5977987666848802,
          0.4137957670322879,
          0.5317387304507819,
          0.4337990685296074,
          0.3779342723004695,
          0.5085524636201174,
          0.3175355450236967,
          0.6030201682375596,
          0.2286970863111599,
          0.7781940173329606,
          0.4279544562230075,
          0.381451009723261,
          0.4482012974248083,
          0.4510024780355936,
          0.6079932299880755,
          0.5635833190320919,
          0.3612993363604611,
          0.2990803678528589,
          0.336421200750469,
          0.551640340218712,
          0.4067876502474664,
          0.1699402220324508,
          0.4007334555759293,
          0.7115828334102445,
          0.293144208037825,
          0.7726388265229757,
          0.4883720930232558,
          0.3775028121484814,
          0.416623214099489,
          0.563588522741511,
          0.9993156734459984,
          0.6802251323562528,
          0.4699613974724355,
          0.656571834784158,
          0.6753042088832973
         ],
         "yaxis": "y"
        },
        {
         "hovertemplate": "model_name=lstmsoftmax<br>tag_type=%{x}<br>f1_score=%{y}<extra></extra>",
         "legendgroup": "lstmsoftmax",
         "line": {
          "color": "#00cc96",
          "dash": "solid"
         },
         "marker": {
          "symbol": "circle"
         },
         "mode": "lines+markers",
         "name": "lstmsoftmax",
         "orientation": "v",
         "showlegend": true,
         "type": "scatter",
         "x": [
          "B-AerospaceManufacturer",
          "B-AnatomicalStructure",
          "B-ArtWork",
          "B-Artist",
          "B-Athlete",
          "B-CarManufacturer",
          "B-Cleric",
          "B-Clothing",
          "B-Disease",
          "B-Drink",
          "B-Facility",
          "B-Food",
          "B-HumanSettlement",
          "B-MedicalProcedure",
          "B-Medication/Vaccine",
          "B-MusicalGRP",
          "B-MusicalWork",
          "B-ORG",
          "B-OtherLOC",
          "B-OtherPER",
          "B-OtherPROD",
          "B-Politician",
          "B-PrivateCorp",
          "B-PublicCorp",
          "B-Scientist",
          "B-Software",
          "B-SportsGRP",
          "B-SportsManager",
          "B-Station",
          "B-Symptom",
          "B-Vehicle",
          "B-VisualWork",
          "B-WrittenWork",
          "I-AerospaceManufacturer",
          "I-AnatomicalStructure",
          "I-ArtWork",
          "I-Artist",
          "I-Athlete",
          "I-CarManufacturer",
          "I-Cleric",
          "I-Clothing",
          "I-Disease",
          "I-Drink",
          "I-Facility",
          "I-Food",
          "I-HumanSettlement",
          "I-MedicalProcedure",
          "I-Medication/Vaccine",
          "I-MusicalGRP",
          "I-MusicalWork",
          "I-ORG",
          "I-OtherLOC",
          "I-OtherPER",
          "I-OtherPROD",
          "I-Politician",
          "I-PrivateCorp",
          "I-PublicCorp",
          "I-Scientist",
          "I-Software",
          "I-SportsGRP",
          "I-SportsManager",
          "I-Station",
          "I-Symptom",
          "I-Vehicle",
          "I-VisualWork",
          "I-WrittenWork",
          "O",
          "micro avg",
          "macro avg",
          "weighted avg",
          "samples avg",
          "B-AerospaceManufacturer",
          "B-AnatomicalStructure",
          "B-ArtWork",
          "B-Artist",
          "B-Athlete",
          "B-CarManufacturer",
          "B-Cleric",
          "B-Clothing",
          "B-Disease",
          "B-Drink",
          "B-Facility",
          "B-Food",
          "B-HumanSettlement",
          "B-MedicalProcedure",
          "B-Medication/Vaccine",
          "B-MusicalGRP",
          "B-MusicalWork",
          "B-ORG",
          "B-OtherLOC",
          "B-OtherPER",
          "B-OtherPROD",
          "B-Politician",
          "B-PrivateCorp",
          "B-PublicCorp",
          "B-Scientist",
          "B-Software",
          "B-SportsGRP",
          "B-SportsManager",
          "B-Station",
          "B-Symptom",
          "B-Vehicle",
          "B-VisualWork",
          "B-WrittenWork",
          "I-AerospaceManufacturer",
          "I-AnatomicalStructure",
          "I-ArtWork",
          "I-Artist",
          "I-Athlete",
          "I-CarManufacturer",
          "I-Cleric",
          "I-Clothing",
          "I-Disease",
          "I-Drink",
          "I-Facility",
          "I-Food",
          "I-HumanSettlement",
          "I-MedicalProcedure",
          "I-Medication/Vaccine",
          "I-MusicalGRP",
          "I-MusicalWork",
          "I-ORG",
          "I-OtherLOC",
          "I-OtherPER",
          "I-OtherPROD",
          "I-Politician",
          "I-PrivateCorp",
          "I-PublicCorp",
          "I-Scientist",
          "I-Software",
          "I-SportsGRP",
          "I-SportsManager",
          "I-Station",
          "I-Symptom",
          "I-Vehicle",
          "I-VisualWork",
          "I-WrittenWork",
          "O",
          "micro avg",
          "macro avg",
          "weighted avg",
          "samples avg",
          "B-AerospaceManufacturer",
          "B-AnatomicalStructure",
          "B-ArtWork",
          "B-Artist",
          "B-Athlete",
          "B-CarManufacturer",
          "B-Cleric",
          "B-Clothing",
          "B-Disease",
          "B-Drink",
          "B-Facility",
          "B-Food",
          "B-HumanSettlement",
          "B-MedicalProcedure",
          "B-Medication/Vaccine",
          "B-MusicalGRP",
          "B-MusicalWork",
          "B-ORG",
          "B-OtherLOC",
          "B-OtherPER",
          "B-OtherPROD",
          "B-Politician",
          "B-PrivateCorp",
          "B-PublicCorp",
          "B-Scientist",
          "B-Software",
          "B-SportsGRP",
          "B-SportsManager",
          "B-Station",
          "B-Symptom",
          "B-Vehicle",
          "B-VisualWork",
          "B-WrittenWork",
          "I-AerospaceManufacturer",
          "I-AnatomicalStructure",
          "I-ArtWork",
          "I-Artist",
          "I-Athlete",
          "I-CarManufacturer",
          "I-Cleric",
          "I-Clothing",
          "I-Disease",
          "I-Drink",
          "I-Facility",
          "I-Food",
          "I-HumanSettlement",
          "I-MedicalProcedure",
          "I-Medication/Vaccine",
          "I-MusicalGRP",
          "I-MusicalWork",
          "I-ORG",
          "I-OtherLOC",
          "I-OtherPER",
          "I-OtherPROD",
          "I-Politician",
          "I-PrivateCorp",
          "I-PublicCorp",
          "I-Scientist",
          "I-Software",
          "I-SportsGRP",
          "I-SportsManager",
          "I-Station",
          "I-Symptom",
          "I-Vehicle",
          "I-VisualWork",
          "I-WrittenWork",
          "O",
          "micro avg",
          "macro avg",
          "weighted avg",
          "samples avg"
         ],
         "xaxis": "x",
         "y": [
          0.0103092783505154,
          0.5901639344262295,
          0.0714285714285714,
          0.8270613107822411,
          0.5886259858862598,
          0.0098039215686274,
          0,
          0,
          0.481012658227848,
          0,
          0.6004198740377886,
          0.2168021680216802,
          0.8345368916797489,
          0,
          0.1316614420062695,
          0.6802030456852791,
          0.6507633587786259,
          0.5069444444444444,
          0.1712328767123287,
          0.5869380831212893,
          0.4054897067997504,
          0.5329446064139942,
          0,
          0.0665280665280665,
          0,
          0.5580110497237568,
          0.6454802259887006,
          0.1666666666666666,
          0.6384778012684991,
          0,
          0.0714285714285714,
          0.6823529411764706,
          0.5513866231647635,
          0.0655737704918032,
          0.512,
          0.6080586080586081,
          0.8905389221556888,
          0.7053186391950168,
          0,
          0.2122448979591837,
          0,
          0.5845070422535211,
          0,
          0.7630147630147631,
          0.0256410256410256,
          0.8547717842323651,
          0.128,
          0,
          0.7763975155279503,
          0.777992277992278,
          0.5654899373144175,
          0.4240506329113924,
          0.6628671635247698,
          0.5238678090575276,
          0.5948424068767908,
          0.1832061068702289,
          0.046875,
          0.0327868852459016,
          0.6831683168316832,
          0.7027863777089784,
          0.2753623188405797,
          0.8977955911823646,
          0,
          0.2750716332378223,
          0.7424822307271733,
          0.7963875205254516,
          0.99909338168631,
          0.7386026316955385,
          0.3968189054235908,
          0.7102655939510452,
          0.7339018185451763,
          0,
          0.1111111111111111,
          0,
          0.602510460251046,
          0.3168316831683168,
          0,
          0,
          0,
          0.1739130434782609,
          0,
          0.2647058823529412,
          0,
          0.5673758865248227,
          0,
          0,
          0.3595505617977528,
          0.2807017543859649,
          0.350597609561753,
          0.1176470588235294,
          0.3893805309734514,
          0.2388059701492537,
          0.2716049382716049,
          0,
          0,
          0,
          0.1333333333333333,
          0.4,
          0.1428571428571428,
          0.3,
          0,
          0,
          0.46875,
          0.4117647058823529,
          0,
          0,
          0,
          0.5471698113207547,
          0.3448275862068965,
          0,
          0.2222222222222222,
          0,
          0.1428571428571428,
          0,
          0.3999999999999999,
          0,
          0.6779661016949153,
          0,
          0,
          0.231578947368421,
          0.3749999999999999,
          0.3577981651376147,
          0.2352941176470588,
          0.3963963963963964,
          0.1714285714285714,
          0.2133333333333333,
          0,
          0,
          0,
          0.2,
          0.4473684210526316,
          0.2666666666666666,
          0.5599999999999999,
          0,
          0.1333333333333333,
          0.4655172413793103,
          0.547945205479452,
          0.9993373094764744,
          0.5669058674546222,
          0.2065295857600572,
          0.5450759601913875,
          0.5729414147294941,
          0.0022598870056497,
          0.2046527309507754,
          0.0149114631873252,
          0.5517797265927263,
          0.3275317005384749,
          0.0034812880765883,
          0.0099861303744798,
          0,
          0.1669232084829827,
          0,
          0.3029251363411007,
          0.0301507537688442,
          0.5654132440440344,
          0,
          0.0097560975609756,
          0.3098861693699704,
          0.4145333333333333,
          0.3117809020896237,
          0.0842709022722258,
          0.3072945118176189,
          0.1638031693077564,
          0.2530110190484325,
          0,
          0.0233297985153764,
          0.0005452562704471,
          0.2033296337402885,
          0.4189123627221806,
          0.1119422233685839,
          0.333716915995397,
          0,
          0.008315185111859,
          0.4459475495431351,
          0.3517788695135777,
          0.0385232744783306,
          0.0493827160493827,
          0.0930232558139535,
          0.5564820185614849,
          0.3513557395681116,
          0,
          0.1389195148842337,
          0,
          0.1644599303135888,
          0,
          0.3991635687732341,
          0.0014347202295552,
          0.6519613687850244,
          0.0054585152838427,
          0,
          0.2679595626160512,
          0.4373500645875623,
          0.3211692002345617,
          0.2275425405619311,
          0.3344326187977814,
          0.1487794052374611,
          0.2828248346490292,
          0.0363636363636363,
          0.025802909689816,
          0.0104281009879253,
          0.1853085210577865,
          0.381996494760786,
          0.1610106514738667,
          0.6066199872692553,
          0.0038022813688212,
          0.0479381443298969,
          0.4202030236240027,
          0.4611237818784988,
          0.9991317452393852,
          0.5586936019500375,
          0.2051062880061576,
          0.544261652808481,
          0.5640760627600439
         ],
         "yaxis": "y"
        },
        {
         "hovertemplate": "model_name=lstmcrf_ep50<br>tag_type=%{x}<br>f1_score=%{y}<extra></extra>",
         "legendgroup": "lstmcrf_ep50",
         "line": {
          "color": "#ab63fa",
          "dash": "solid"
         },
         "marker": {
          "symbol": "circle"
         },
         "mode": "lines+markers",
         "name": "lstmcrf_ep50",
         "orientation": "v",
         "showlegend": true,
         "type": "scatter",
         "x": [
          "B-AerospaceManufacturer",
          "B-AnatomicalStructure",
          "B-ArtWork",
          "B-Artist",
          "B-Athlete",
          "B-CarManufacturer",
          "B-Cleric",
          "B-Clothing",
          "B-Disease",
          "B-Drink",
          "B-Facility",
          "B-Food",
          "B-HumanSettlement",
          "B-MedicalProcedure",
          "B-Medication/Vaccine",
          "B-MusicalGRP",
          "B-MusicalWork",
          "B-ORG",
          "B-OtherLOC",
          "B-OtherPER",
          "B-OtherPROD",
          "B-Politician",
          "B-PrivateCorp",
          "B-PublicCorp",
          "B-Scientist",
          "B-Software",
          "B-SportsGRP",
          "B-SportsManager",
          "B-Station",
          "B-Symptom",
          "B-Vehicle",
          "B-VisualWork",
          "B-WrittenWork",
          "I-AerospaceManufacturer",
          "I-AnatomicalStructure",
          "I-ArtWork",
          "I-Artist",
          "I-Athlete",
          "I-CarManufacturer",
          "I-Cleric",
          "I-Clothing",
          "I-Disease",
          "I-Drink",
          "I-Facility",
          "I-Food",
          "I-HumanSettlement",
          "I-MedicalProcedure",
          "I-Medication/Vaccine",
          "I-MusicalGRP",
          "I-MusicalWork",
          "I-ORG",
          "I-OtherLOC",
          "I-OtherPER",
          "I-OtherPROD",
          "I-Politician",
          "I-PrivateCorp",
          "I-PublicCorp",
          "I-Scientist",
          "I-Software",
          "I-SportsGRP",
          "I-SportsManager",
          "I-Station",
          "I-Symptom",
          "I-Vehicle",
          "I-VisualWork",
          "I-WrittenWork",
          "O",
          "micro avg",
          "macro avg",
          "weighted avg",
          "samples avg",
          "B-AerospaceManufacturer",
          "B-AnatomicalStructure",
          "B-ArtWork",
          "B-Artist",
          "B-Athlete",
          "B-CarManufacturer",
          "B-Cleric",
          "B-Clothing",
          "B-Disease",
          "B-Drink",
          "B-Facility",
          "B-Food",
          "B-HumanSettlement",
          "B-MedicalProcedure",
          "B-Medication/Vaccine",
          "B-MusicalGRP",
          "B-MusicalWork",
          "B-ORG",
          "B-OtherLOC",
          "B-OtherPER",
          "B-OtherPROD",
          "B-Politician",
          "B-PrivateCorp",
          "B-PublicCorp",
          "B-Scientist",
          "B-Software",
          "B-SportsGRP",
          "B-SportsManager",
          "B-Station",
          "B-Symptom",
          "B-Vehicle",
          "B-VisualWork",
          "B-WrittenWork",
          "I-AerospaceManufacturer",
          "I-AnatomicalStructure",
          "I-ArtWork",
          "I-Artist",
          "I-Athlete",
          "I-CarManufacturer",
          "I-Cleric",
          "I-Clothing",
          "I-Disease",
          "I-Drink",
          "I-Facility",
          "I-Food",
          "I-HumanSettlement",
          "I-MedicalProcedure",
          "I-Medication/Vaccine",
          "I-MusicalGRP",
          "I-MusicalWork",
          "I-ORG",
          "I-OtherLOC",
          "I-OtherPER",
          "I-OtherPROD",
          "I-Politician",
          "I-PrivateCorp",
          "I-PublicCorp",
          "I-Scientist",
          "I-Software",
          "I-SportsGRP",
          "I-SportsManager",
          "I-Station",
          "I-Symptom",
          "I-Vehicle",
          "I-VisualWork",
          "I-WrittenWork",
          "O",
          "micro avg",
          "macro avg",
          "weighted avg",
          "samples avg",
          "B-AerospaceManufacturer",
          "B-AnatomicalStructure",
          "B-ArtWork",
          "B-Artist",
          "B-Athlete",
          "B-CarManufacturer",
          "B-Cleric",
          "B-Clothing",
          "B-Disease",
          "B-Drink",
          "B-Facility",
          "B-Food",
          "B-HumanSettlement",
          "B-MedicalProcedure",
          "B-Medication/Vaccine",
          "B-MusicalGRP",
          "B-MusicalWork",
          "B-ORG",
          "B-OtherLOC",
          "B-OtherPER",
          "B-OtherPROD",
          "B-Politician",
          "B-PrivateCorp",
          "B-PublicCorp",
          "B-Scientist",
          "B-Software",
          "B-SportsGRP",
          "B-SportsManager",
          "B-Station",
          "B-Symptom",
          "B-Vehicle",
          "B-VisualWork",
          "B-WrittenWork",
          "I-AerospaceManufacturer",
          "I-AnatomicalStructure",
          "I-ArtWork",
          "I-Artist",
          "I-Athlete",
          "I-CarManufacturer",
          "I-Cleric",
          "I-Clothing",
          "I-Disease",
          "I-Drink",
          "I-Facility",
          "I-Food",
          "I-HumanSettlement",
          "I-MedicalProcedure",
          "I-Medication/Vaccine",
          "I-MusicalGRP",
          "I-MusicalWork",
          "I-ORG",
          "I-OtherLOC",
          "I-OtherPER",
          "I-OtherPROD",
          "I-Politician",
          "I-PrivateCorp",
          "I-PublicCorp",
          "I-Scientist",
          "I-Software",
          "I-SportsGRP",
          "I-SportsManager",
          "I-Station",
          "I-Symptom",
          "I-Vehicle",
          "I-VisualWork",
          "I-WrittenWork",
          "O",
          "micro avg",
          "macro avg",
          "weighted avg",
          "samples avg"
         ],
         "xaxis": "x",
         "y": [
          0,
          0.3022774327122153,
          0,
          0.9068351003834876,
          0.7021003000428633,
          0,
          0.3205574912891986,
          0,
          0.2570532915360501,
          0,
          0.5605234460196292,
          0.1228668941979522,
          0.7664580725907384,
          0,
          0.1939655172413793,
          0.5802469135802469,
          0.0563798219584569,
          0.6105898123324397,
          0,
          0.7217194570135748,
          0.3861671469740634,
          0.5629032258064516,
          0,
          0.0439024390243902,
          0,
          0.2952815829528158,
          0.577651515151515,
          0,
          0.6597222222222222,
          0,
          0.0060790273556231,
          0.5265588914549653,
          0.5033210332103321,
          0,
          0,
          0,
          0.9160855974993988,
          0.7097902097902098,
          0,
          0.4075471698113208,
          0,
          0.303030303030303,
          0,
          0.6132492113564669,
          0,
          0.7989556135770236,
          0,
          0,
          0.5774804905239688,
          0.0708955223880596,
          0.6444718454582818,
          0,
          0.7321212121212122,
          0.4039334341906203,
          0.5826377295492488,
          0,
          0,
          0,
          0.181184668989547,
          0.6290983606557377,
          0,
          0.7304964539007093,
          0,
          0,
          0.5484536082474226,
          0.5648464163822525,
          0.9996859844387844,
          0.7134994563450695,
          0.2996585741337489,
          0.6681582495473496,
          0.7152118556069225,
          0,
          0.1818181818181818,
          0,
          0.5221238938053097,
          0.2912621359223301,
          0,
          0,
          0,
          0.1538461538461538,
          0,
          0.1395348837209302,
          0,
          0.3886255924170615,
          0,
          0,
          0.1944444444444444,
          0.1025641025641025,
          0.3037974683544304,
          0,
          0.339622641509434,
          0.1038961038961039,
          0.0909090909090909,
          0,
          0,
          0,
          0,
          0.196078431372549,
          0,
          0.2727272727272727,
          0,
          0,
          0.2391304347826086,
          0.4062499999999999,
          0,
          0,
          0,
          0.5517241379310345,
          0.2857142857142857,
          0,
          0,
          0,
          0.2352941176470588,
          0,
          0.1791044776119403,
          0,
          0.5483870967741935,
          0,
          0,
          0.2307692307692307,
          0.1481481481481481,
          0.2900763358778626,
          0,
          0.3333333333333333,
          0.0975609756097561,
          0.1081081081081081,
          0,
          0,
          0,
          0,
          0.196078431372549,
          0,
          0.3478260869565217,
          0,
          0,
          0.2325581395348837,
          0.4528301886792453,
          0.9993373094764744,
          0.5284590467376215,
          0.1367683766512631,
          0.4831969585366614,
          0.5420829501624203,
          0,
          0.1180243745991019,
          0,
          0.4949277796439368,
          0.2382042061675928,
          0,
          0.0478887744593202,
          0.001000500250125,
          0.0471506635441061,
          0,
          0.1373094764744864,
          0.0043436293436293,
          0.3838676727404527,
          0,
          0.0371078806426931,
          0.1436950146627565,
          0.0429436246689368,
          0.274619335075232,
          0,
          0.2326173428798727,
          0.1031118862063327,
          0.0914638629512535,
          0,
          0.0053664262954888,
          0,
          0.0503663003663003,
          0.2080774510512246,
          0,
          0.0962312477131357,
          0,
          0.0012396694214876,
          0.2453237649091332,
          0.2703785950278937,
          0,
          0,
          0,
          0.4896398664652455,
          0.233587844837509,
          0,
          0.0534918276374442,
          0,
          0.054951690821256,
          0,
          0.1567375143963983,
          0,
          0.4744937195590874,
          0,
          0,
          0.1306572845034383,
          0.0490623894327161,
          0.290304396843292,
          0.0023088023088023,
          0.238756728598715,
          0.0892494929006085,
          0.0999063378083047,
          0,
          0,
          0,
          0.0115018801150188,
          0.2298443039926006,
          0,
          0.2342595849454801,
          0,
          0,
          0.2363432102232832,
          0.330981958923778,
          0.9991552515197192,
          0.513053106875084,
          0.1146342323123461,
          0.4629189937937254,
          0.5293187207853505
         ],
         "yaxis": "y"
        }
       ],
       "layout": {
        "legend": {
         "title": {
          "text": "model_name"
         },
         "tracegroupgap": 0
        },
        "margin": {
         "t": 60
        },
        "template": {
         "data": {
          "bar": [
           {
            "error_x": {
             "color": "#2a3f5f"
            },
            "error_y": {
             "color": "#2a3f5f"
            },
            "marker": {
             "line": {
              "color": "#E5ECF6",
              "width": 0.5
             },
             "pattern": {
              "fillmode": "overlay",
              "size": 10,
              "solidity": 0.2
             }
            },
            "type": "bar"
           }
          ],
          "barpolar": [
           {
            "marker": {
             "line": {
              "color": "#E5ECF6",
              "width": 0.5
             },
             "pattern": {
              "fillmode": "overlay",
              "size": 10,
              "solidity": 0.2
             }
            },
            "type": "barpolar"
           }
          ],
          "carpet": [
           {
            "aaxis": {
             "endlinecolor": "#2a3f5f",
             "gridcolor": "white",
             "linecolor": "white",
             "minorgridcolor": "white",
             "startlinecolor": "#2a3f5f"
            },
            "baxis": {
             "endlinecolor": "#2a3f5f",
             "gridcolor": "white",
             "linecolor": "white",
             "minorgridcolor": "white",
             "startlinecolor": "#2a3f5f"
            },
            "type": "carpet"
           }
          ],
          "choropleth": [
           {
            "colorbar": {
             "outlinewidth": 0,
             "ticks": ""
            },
            "type": "choropleth"
           }
          ],
          "contour": [
           {
            "colorbar": {
             "outlinewidth": 0,
             "ticks": ""
            },
            "colorscale": [
             [
              0,
              "#0d0887"
             ],
             [
              0.1111111111111111,
              "#46039f"
             ],
             [
              0.2222222222222222,
              "#7201a8"
             ],
             [
              0.3333333333333333,
              "#9c179e"
             ],
             [
              0.4444444444444444,
              "#bd3786"
             ],
             [
              0.5555555555555556,
              "#d8576b"
             ],
             [
              0.6666666666666666,
              "#ed7953"
             ],
             [
              0.7777777777777778,
              "#fb9f3a"
             ],
             [
              0.8888888888888888,
              "#fdca26"
             ],
             [
              1,
              "#f0f921"
             ]
            ],
            "type": "contour"
           }
          ],
          "contourcarpet": [
           {
            "colorbar": {
             "outlinewidth": 0,
             "ticks": ""
            },
            "type": "contourcarpet"
           }
          ],
          "heatmap": [
           {
            "colorbar": {
             "outlinewidth": 0,
             "ticks": ""
            },
            "colorscale": [
             [
              0,
              "#0d0887"
             ],
             [
              0.1111111111111111,
              "#46039f"
             ],
             [
              0.2222222222222222,
              "#7201a8"
             ],
             [
              0.3333333333333333,
              "#9c179e"
             ],
             [
              0.4444444444444444,
              "#bd3786"
             ],
             [
              0.5555555555555556,
              "#d8576b"
             ],
             [
              0.6666666666666666,
              "#ed7953"
             ],
             [
              0.7777777777777778,
              "#fb9f3a"
             ],
             [
              0.8888888888888888,
              "#fdca26"
             ],
             [
              1,
              "#f0f921"
             ]
            ],
            "type": "heatmap"
           }
          ],
          "heatmapgl": [
           {
            "colorbar": {
             "outlinewidth": 0,
             "ticks": ""
            },
            "colorscale": [
             [
              0,
              "#0d0887"
             ],
             [
              0.1111111111111111,
              "#46039f"
             ],
             [
              0.2222222222222222,
              "#7201a8"
             ],
             [
              0.3333333333333333,
              "#9c179e"
             ],
             [
              0.4444444444444444,
              "#bd3786"
             ],
             [
              0.5555555555555556,
              "#d8576b"
             ],
             [
              0.6666666666666666,
              "#ed7953"
             ],
             [
              0.7777777777777778,
              "#fb9f3a"
             ],
             [
              0.8888888888888888,
              "#fdca26"
             ],
             [
              1,
              "#f0f921"
             ]
            ],
            "type": "heatmapgl"
           }
          ],
          "histogram": [
           {
            "marker": {
             "pattern": {
              "fillmode": "overlay",
              "size": 10,
              "solidity": 0.2
             }
            },
            "type": "histogram"
           }
          ],
          "histogram2d": [
           {
            "colorbar": {
             "outlinewidth": 0,
             "ticks": ""
            },
            "colorscale": [
             [
              0,
              "#0d0887"
             ],
             [
              0.1111111111111111,
              "#46039f"
             ],
             [
              0.2222222222222222,
              "#7201a8"
             ],
             [
              0.3333333333333333,
              "#9c179e"
             ],
             [
              0.4444444444444444,
              "#bd3786"
             ],
             [
              0.5555555555555556,
              "#d8576b"
             ],
             [
              0.6666666666666666,
              "#ed7953"
             ],
             [
              0.7777777777777778,
              "#fb9f3a"
             ],
             [
              0.8888888888888888,
              "#fdca26"
             ],
             [
              1,
              "#f0f921"
             ]
            ],
            "type": "histogram2d"
           }
          ],
          "histogram2dcontour": [
           {
            "colorbar": {
             "outlinewidth": 0,
             "ticks": ""
            },
            "colorscale": [
             [
              0,
              "#0d0887"
             ],
             [
              0.1111111111111111,
              "#46039f"
             ],
             [
              0.2222222222222222,
              "#7201a8"
             ],
             [
              0.3333333333333333,
              "#9c179e"
             ],
             [
              0.4444444444444444,
              "#bd3786"
             ],
             [
              0.5555555555555556,
              "#d8576b"
             ],
             [
              0.6666666666666666,
              "#ed7953"
             ],
             [
              0.7777777777777778,
              "#fb9f3a"
             ],
             [
              0.8888888888888888,
              "#fdca26"
             ],
             [
              1,
              "#f0f921"
             ]
            ],
            "type": "histogram2dcontour"
           }
          ],
          "mesh3d": [
           {
            "colorbar": {
             "outlinewidth": 0,
             "ticks": ""
            },
            "type": "mesh3d"
           }
          ],
          "parcoords": [
           {
            "line": {
             "colorbar": {
              "outlinewidth": 0,
              "ticks": ""
             }
            },
            "type": "parcoords"
           }
          ],
          "pie": [
           {
            "automargin": true,
            "type": "pie"
           }
          ],
          "scatter": [
           {
            "fillpattern": {
             "fillmode": "overlay",
             "size": 10,
             "solidity": 0.2
            },
            "type": "scatter"
           }
          ],
          "scatter3d": [
           {
            "line": {
             "colorbar": {
              "outlinewidth": 0,
              "ticks": ""
             }
            },
            "marker": {
             "colorbar": {
              "outlinewidth": 0,
              "ticks": ""
             }
            },
            "type": "scatter3d"
           }
          ],
          "scattercarpet": [
           {
            "marker": {
             "colorbar": {
              "outlinewidth": 0,
              "ticks": ""
             }
            },
            "type": "scattercarpet"
           }
          ],
          "scattergeo": [
           {
            "marker": {
             "colorbar": {
              "outlinewidth": 0,
              "ticks": ""
             }
            },
            "type": "scattergeo"
           }
          ],
          "scattergl": [
           {
            "marker": {
             "colorbar": {
              "outlinewidth": 0,
              "ticks": ""
             }
            },
            "type": "scattergl"
           }
          ],
          "scattermapbox": [
           {
            "marker": {
             "colorbar": {
              "outlinewidth": 0,
              "ticks": ""
             }
            },
            "type": "scattermapbox"
           }
          ],
          "scatterpolar": [
           {
            "marker": {
             "colorbar": {
              "outlinewidth": 0,
              "ticks": ""
             }
            },
            "type": "scatterpolar"
           }
          ],
          "scatterpolargl": [
           {
            "marker": {
             "colorbar": {
              "outlinewidth": 0,
              "ticks": ""
             }
            },
            "type": "scatterpolargl"
           }
          ],
          "scatterternary": [
           {
            "marker": {
             "colorbar": {
              "outlinewidth": 0,
              "ticks": ""
             }
            },
            "type": "scatterternary"
           }
          ],
          "surface": [
           {
            "colorbar": {
             "outlinewidth": 0,
             "ticks": ""
            },
            "colorscale": [
             [
              0,
              "#0d0887"
             ],
             [
              0.1111111111111111,
              "#46039f"
             ],
             [
              0.2222222222222222,
              "#7201a8"
             ],
             [
              0.3333333333333333,
              "#9c179e"
             ],
             [
              0.4444444444444444,
              "#bd3786"
             ],
             [
              0.5555555555555556,
              "#d8576b"
             ],
             [
              0.6666666666666666,
              "#ed7953"
             ],
             [
              0.7777777777777778,
              "#fb9f3a"
             ],
             [
              0.8888888888888888,
              "#fdca26"
             ],
             [
              1,
              "#f0f921"
             ]
            ],
            "type": "surface"
           }
          ],
          "table": [
           {
            "cells": {
             "fill": {
              "color": "#EBF0F8"
             },
             "line": {
              "color": "white"
             }
            },
            "header": {
             "fill": {
              "color": "#C8D4E3"
             },
             "line": {
              "color": "white"
             }
            },
            "type": "table"
           }
          ]
         },
         "layout": {
          "annotationdefaults": {
           "arrowcolor": "#2a3f5f",
           "arrowhead": 0,
           "arrowwidth": 1
          },
          "autotypenumbers": "strict",
          "coloraxis": {
           "colorbar": {
            "outlinewidth": 0,
            "ticks": ""
           }
          },
          "colorscale": {
           "diverging": [
            [
             0,
             "#8e0152"
            ],
            [
             0.1,
             "#c51b7d"
            ],
            [
             0.2,
             "#de77ae"
            ],
            [
             0.3,
             "#f1b6da"
            ],
            [
             0.4,
             "#fde0ef"
            ],
            [
             0.5,
             "#f7f7f7"
            ],
            [
             0.6,
             "#e6f5d0"
            ],
            [
             0.7,
             "#b8e186"
            ],
            [
             0.8,
             "#7fbc41"
            ],
            [
             0.9,
             "#4d9221"
            ],
            [
             1,
             "#276419"
            ]
           ],
           "sequential": [
            [
             0,
             "#0d0887"
            ],
            [
             0.1111111111111111,
             "#46039f"
            ],
            [
             0.2222222222222222,
             "#7201a8"
            ],
            [
             0.3333333333333333,
             "#9c179e"
            ],
            [
             0.4444444444444444,
             "#bd3786"
            ],
            [
             0.5555555555555556,
             "#d8576b"
            ],
            [
             0.6666666666666666,
             "#ed7953"
            ],
            [
             0.7777777777777778,
             "#fb9f3a"
            ],
            [
             0.8888888888888888,
             "#fdca26"
            ],
            [
             1,
             "#f0f921"
            ]
           ],
           "sequentialminus": [
            [
             0,
             "#0d0887"
            ],
            [
             0.1111111111111111,
             "#46039f"
            ],
            [
             0.2222222222222222,
             "#7201a8"
            ],
            [
             0.3333333333333333,
             "#9c179e"
            ],
            [
             0.4444444444444444,
             "#bd3786"
            ],
            [
             0.5555555555555556,
             "#d8576b"
            ],
            [
             0.6666666666666666,
             "#ed7953"
            ],
            [
             0.7777777777777778,
             "#fb9f3a"
            ],
            [
             0.8888888888888888,
             "#fdca26"
            ],
            [
             1,
             "#f0f921"
            ]
           ]
          },
          "colorway": [
           "#636efa",
           "#EF553B",
           "#00cc96",
           "#ab63fa",
           "#FFA15A",
           "#19d3f3",
           "#FF6692",
           "#B6E880",
           "#FF97FF",
           "#FECB52"
          ],
          "font": {
           "color": "#2a3f5f"
          },
          "geo": {
           "bgcolor": "white",
           "lakecolor": "white",
           "landcolor": "#E5ECF6",
           "showlakes": true,
           "showland": true,
           "subunitcolor": "white"
          },
          "hoverlabel": {
           "align": "left"
          },
          "hovermode": "closest",
          "mapbox": {
           "style": "light"
          },
          "paper_bgcolor": "white",
          "plot_bgcolor": "#E5ECF6",
          "polar": {
           "angularaxis": {
            "gridcolor": "white",
            "linecolor": "white",
            "ticks": ""
           },
           "bgcolor": "#E5ECF6",
           "radialaxis": {
            "gridcolor": "white",
            "linecolor": "white",
            "ticks": ""
           }
          },
          "scene": {
           "xaxis": {
            "backgroundcolor": "#E5ECF6",
            "gridcolor": "white",
            "gridwidth": 2,
            "linecolor": "white",
            "showbackground": true,
            "ticks": "",
            "zerolinecolor": "white"
           },
           "yaxis": {
            "backgroundcolor": "#E5ECF6",
            "gridcolor": "white",
            "gridwidth": 2,
            "linecolor": "white",
            "showbackground": true,
            "ticks": "",
            "zerolinecolor": "white"
           },
           "zaxis": {
            "backgroundcolor": "#E5ECF6",
            "gridcolor": "white",
            "gridwidth": 2,
            "linecolor": "white",
            "showbackground": true,
            "ticks": "",
            "zerolinecolor": "white"
           }
          },
          "shapedefaults": {
           "line": {
            "color": "#2a3f5f"
           }
          },
          "ternary": {
           "aaxis": {
            "gridcolor": "white",
            "linecolor": "white",
            "ticks": ""
           },
           "baxis": {
            "gridcolor": "white",
            "linecolor": "white",
            "ticks": ""
           },
           "bgcolor": "#E5ECF6",
           "caxis": {
            "gridcolor": "white",
            "linecolor": "white",
            "ticks": ""
           }
          },
          "title": {
           "x": 0.05
          },
          "xaxis": {
           "automargin": true,
           "gridcolor": "white",
           "linecolor": "white",
           "ticks": "",
           "title": {
            "standoff": 15
           },
           "zerolinecolor": "white",
           "zerolinewidth": 2
          },
          "yaxis": {
           "automargin": true,
           "gridcolor": "white",
           "linecolor": "white",
           "ticks": "",
           "title": {
            "standoff": 15
           },
           "zerolinecolor": "white",
           "zerolinewidth": 2
          }
         }
        },
        "xaxis": {
         "anchor": "y",
         "domain": [
          0,
          1
         ],
         "title": {
          "text": "tag_type"
         }
        },
        "yaxis": {
         "anchor": "x",
         "domain": [
          0,
          1
         ],
         "title": {
          "text": "f1_score"
         }
        }
       }
      }
     },
     "metadata": {},
     "output_type": "display_data"
    }
   ],
   "source": [
    "tmp_df = all_reports_df\n",
    "fig = px.line(tmp_df, x=\"tag_type\", y=\"f1_score\", color=\"model_name\", markers=\"o\")\n",
    "fig.show()"
   ]
  },
  {
   "cell_type": "code",
   "execution_count": 19,
   "metadata": {},
   "outputs": [
    {
     "data": {
      "application/vnd.plotly.v1+json": {
       "config": {
        "plotlyServerURL": "https://plot.ly"
       },
       "data": [
        {
         "hovertemplate": "model_name=tagger<br>tag_type=%{x}<br>f1_score=%{y}<extra></extra>",
         "legendgroup": "tagger",
         "line": {
          "color": "#636efa",
          "dash": "solid"
         },
         "marker": {
          "symbol": "circle"
         },
         "mode": "lines+markers",
         "name": "tagger",
         "orientation": "v",
         "showlegend": true,
         "type": "scatter",
         "x": [
          "B-AerospaceManufacturer",
          "B-AnatomicalStructure",
          "B-ArtWork",
          "B-Artist",
          "B-Athlete",
          "B-CarManufacturer",
          "B-Cleric",
          "B-Clothing",
          "B-Disease",
          "B-Drink",
          "B-Facility",
          "B-Food",
          "B-HumanSettlement",
          "B-MedicalProcedure",
          "B-Medication/Vaccine",
          "B-MusicalGRP",
          "B-MusicalWork",
          "B-ORG",
          "B-OtherLOC",
          "B-OtherPER",
          "B-OtherPROD",
          "B-Politician",
          "B-PrivateCorp",
          "B-PublicCorp",
          "B-Scientist",
          "B-Software",
          "B-SportsGRP",
          "B-SportsManager",
          "B-Station",
          "B-Symptom",
          "B-Vehicle",
          "B-VisualWork",
          "B-WrittenWork",
          "I-AerospaceManufacturer",
          "I-AnatomicalStructure",
          "I-ArtWork",
          "I-Artist",
          "I-Athlete",
          "I-CarManufacturer",
          "I-Cleric",
          "I-Clothing",
          "I-Disease",
          "I-Drink",
          "I-Facility",
          "I-Food",
          "I-HumanSettlement",
          "I-MedicalProcedure",
          "I-Medication/Vaccine",
          "I-MusicalGRP",
          "I-MusicalWork",
          "I-ORG",
          "I-OtherLOC",
          "I-OtherPER",
          "I-OtherPROD",
          "I-Politician",
          "I-PrivateCorp",
          "I-PublicCorp",
          "I-Scientist",
          "I-Software",
          "I-SportsGRP",
          "I-SportsManager",
          "I-Station",
          "I-Symptom",
          "I-Vehicle",
          "I-VisualWork",
          "I-WrittenWork",
          "O",
          "micro avg",
          "macro avg",
          "weighted avg",
          "samples avg"
         ],
         "xaxis": "x",
         "y": [
          0.9,
          0.7407407407407407,
          0.3333333333333333,
          0.5,
          0.282051282051282,
          0.5454545454545454,
          0.4444444444444444,
          0.2666666666666666,
          0.4827586206896552,
          0.7142857142857143,
          0.2857142857142857,
          0.5263157894736842,
          0.5529411764705883,
          0.5263157894736842,
          0.5,
          0.2564102564102564,
          0.0869565217391304,
          0.5245901639344261,
          0.3,
          0.25,
          0.4074074074074074,
          0.2711864406779661,
          0.5714285714285715,
          0.2307692307692307,
          0,
          0.5,
          0.4137931034482758,
          0.1538461538461538,
          0.2,
          0.631578947368421,
          0.4444444444444444,
          0.037037037037037,
          0.4266666666666666,
          0.2222222222222222,
          0.4,
          0.2,
          0.3794871794871794,
          0.2388059701492537,
          0.4444444444444445,
          0.1818181818181818,
          0,
          0.6363636363636365,
          0,
          0.3692307692307692,
          0,
          0.6585365853658536,
          0.6666666666666666,
          0.4,
          0.380952380952381,
          0.2352941176470588,
          0.4888888888888889,
          0.4761904761904762,
          0.2321428571428571,
          0.1538461538461538,
          0.392156862745098,
          0.3636363636363636,
          0.2352941176470588,
          0,
          0,
          0.6153846153846153,
          0.1333333333333333,
          0.6451612903225806,
          0.6666666666666666,
          0.1111111111111111,
          0.0952380952380952,
          0.5079365079365079,
          0.9993373094764744,
          0.6035201482167669,
          0.3707057334013512,
          0.5678566132189906,
          0.6157760708754086
         ],
         "yaxis": "y"
        },
        {
         "hovertemplate": "model_name=crf<br>tag_type=%{x}<br>f1_score=%{y}<extra></extra>",
         "legendgroup": "crf",
         "line": {
          "color": "#EF553B",
          "dash": "solid"
         },
         "marker": {
          "symbol": "circle"
         },
         "mode": "lines+markers",
         "name": "crf",
         "orientation": "v",
         "showlegend": true,
         "type": "scatter",
         "x": [
          "B-AerospaceManufacturer",
          "B-AnatomicalStructure",
          "B-ArtWork",
          "B-Artist",
          "B-Athlete",
          "B-CarManufacturer",
          "B-Cleric",
          "B-Clothing",
          "B-Disease",
          "B-Drink",
          "B-Facility",
          "B-Food",
          "B-HumanSettlement",
          "B-MedicalProcedure",
          "B-Medication/Vaccine",
          "B-MusicalGRP",
          "B-MusicalWork",
          "B-ORG",
          "B-OtherLOC",
          "B-OtherPER",
          "B-OtherPROD",
          "B-Politician",
          "B-PrivateCorp",
          "B-PublicCorp",
          "B-Scientist",
          "B-Software",
          "B-SportsGRP",
          "B-SportsManager",
          "B-Station",
          "B-Symptom",
          "B-Vehicle",
          "B-VisualWork",
          "B-WrittenWork",
          "I-AerospaceManufacturer",
          "I-AnatomicalStructure",
          "I-ArtWork",
          "I-Artist",
          "I-Athlete",
          "I-CarManufacturer",
          "I-Cleric",
          "I-Clothing",
          "I-Disease",
          "I-Drink",
          "I-Facility",
          "I-Food",
          "I-HumanSettlement",
          "I-MedicalProcedure",
          "I-Medication/Vaccine",
          "I-MusicalGRP",
          "I-MusicalWork",
          "I-ORG",
          "I-OtherLOC",
          "I-OtherPER",
          "I-OtherPROD",
          "I-Politician",
          "I-PrivateCorp",
          "I-PublicCorp",
          "I-Scientist",
          "I-Software",
          "I-SportsGRP",
          "I-SportsManager",
          "I-Station",
          "I-Symptom",
          "I-Vehicle",
          "I-VisualWork",
          "I-WrittenWork",
          "O",
          "micro avg",
          "macro avg",
          "weighted avg",
          "samples avg"
         ],
         "xaxis": "x",
         "y": [
          0.8421052631578948,
          0.56,
          0,
          0.6285714285714287,
          0.3409090909090909,
          0.5454545454545454,
          0.4444444444444444,
          0.1666666666666666,
          0.5517241379310345,
          0.8,
          0.5753424657534246,
          0.1428571428571428,
          0.7150837988826816,
          0.3529411764705882,
          0.5263157894736842,
          0.4651162790697674,
          0.4333333333333333,
          0.5289256198347108,
          0.4761904761904761,
          0.3174603174603174,
          0.4255319148936171,
          0.4307692307692307,
          0.5714285714285715,
          0.3333333333333332,
          0.1,
          0.5,
          0.7692307692307692,
          0.2857142857142857,
          0.6666666666666665,
          0.7777777777777777,
          0.5925925925925926,
          0.5238095238095237,
          0.5882352941176471,
          0.8000000000000002,
          0.2857142857142857,
          0,
          0.6244725738396625,
          0.3529411764705882,
          0.6666666666666666,
          0.4285714285714285,
          0,
          0.5714285714285715,
          0.6666666666666666,
          0.6557377049180327,
          0,
          0.8169014084507041,
          0.6,
          0.5,
          0.5294117647058825,
          0.4444444444444445,
          0.568421052631579,
          0.5263157894736842,
          0.3193277310924369,
          0.3571428571428571,
          0.4333333333333332,
          0.6666666666666666,
          0.4,
          0.1052631578947368,
          0.4347826086956522,
          0.8181818181818181,
          0.2857142857142857,
          0.7199999999999999,
          0.8,
          0.5,
          0.5205479452054794,
          0.6909090909090908,
          0.9986737400530504,
          0.6898891653472065,
          0.4935338612786097,
          0.6702462070272814,
          0.6877469991377276
         ],
         "yaxis": "y"
        },
        {
         "hovertemplate": "model_name=lstmsoftmax<br>tag_type=%{x}<br>f1_score=%{y}<extra></extra>",
         "legendgroup": "lstmsoftmax",
         "line": {
          "color": "#00cc96",
          "dash": "solid"
         },
         "marker": {
          "symbol": "circle"
         },
         "mode": "lines+markers",
         "name": "lstmsoftmax",
         "orientation": "v",
         "showlegend": true,
         "type": "scatter",
         "x": [
          "B-AerospaceManufacturer",
          "B-AnatomicalStructure",
          "B-ArtWork",
          "B-Artist",
          "B-Athlete",
          "B-CarManufacturer",
          "B-Cleric",
          "B-Clothing",
          "B-Disease",
          "B-Drink",
          "B-Facility",
          "B-Food",
          "B-HumanSettlement",
          "B-MedicalProcedure",
          "B-Medication/Vaccine",
          "B-MusicalGRP",
          "B-MusicalWork",
          "B-ORG",
          "B-OtherLOC",
          "B-OtherPER",
          "B-OtherPROD",
          "B-Politician",
          "B-PrivateCorp",
          "B-PublicCorp",
          "B-Scientist",
          "B-Software",
          "B-SportsGRP",
          "B-SportsManager",
          "B-Station",
          "B-Symptom",
          "B-Vehicle",
          "B-VisualWork",
          "B-WrittenWork",
          "I-AerospaceManufacturer",
          "I-AnatomicalStructure",
          "I-ArtWork",
          "I-Artist",
          "I-Athlete",
          "I-CarManufacturer",
          "I-Cleric",
          "I-Clothing",
          "I-Disease",
          "I-Drink",
          "I-Facility",
          "I-Food",
          "I-HumanSettlement",
          "I-MedicalProcedure",
          "I-Medication/Vaccine",
          "I-MusicalGRP",
          "I-MusicalWork",
          "I-ORG",
          "I-OtherLOC",
          "I-OtherPER",
          "I-OtherPROD",
          "I-Politician",
          "I-PrivateCorp",
          "I-PublicCorp",
          "I-Scientist",
          "I-Software",
          "I-SportsGRP",
          "I-SportsManager",
          "I-Station",
          "I-Symptom",
          "I-Vehicle",
          "I-VisualWork",
          "I-WrittenWork",
          "O",
          "micro avg",
          "macro avg",
          "weighted avg",
          "samples avg"
         ],
         "xaxis": "x",
         "y": [
          0,
          0.1111111111111111,
          0,
          0.602510460251046,
          0.3168316831683168,
          0,
          0,
          0,
          0.1739130434782609,
          0,
          0.2647058823529412,
          0,
          0.5673758865248227,
          0,
          0,
          0.3595505617977528,
          0.2807017543859649,
          0.350597609561753,
          0.1176470588235294,
          0.3893805309734514,
          0.2388059701492537,
          0.2716049382716049,
          0,
          0,
          0,
          0.1333333333333333,
          0.4,
          0.1428571428571428,
          0.3,
          0,
          0,
          0.46875,
          0.4117647058823529,
          0,
          0,
          0,
          0.5471698113207547,
          0.3448275862068965,
          0,
          0.2222222222222222,
          0,
          0.1428571428571428,
          0,
          0.3999999999999999,
          0,
          0.6779661016949153,
          0,
          0,
          0.231578947368421,
          0.3749999999999999,
          0.3577981651376147,
          0.2352941176470588,
          0.3963963963963964,
          0.1714285714285714,
          0.2133333333333333,
          0,
          0,
          0,
          0.2,
          0.4473684210526316,
          0.2666666666666666,
          0.5599999999999999,
          0,
          0.1333333333333333,
          0.4655172413793103,
          0.547945205479452,
          0.9993373094764744,
          0.5669058674546222,
          0.2065295857600572,
          0.5450759601913875,
          0.5729414147294941
         ],
         "yaxis": "y"
        },
        {
         "hovertemplate": "model_name=lstmcrf_ep50<br>tag_type=%{x}<br>f1_score=%{y}<extra></extra>",
         "legendgroup": "lstmcrf_ep50",
         "line": {
          "color": "#ab63fa",
          "dash": "solid"
         },
         "marker": {
          "symbol": "circle"
         },
         "mode": "lines+markers",
         "name": "lstmcrf_ep50",
         "orientation": "v",
         "showlegend": true,
         "type": "scatter",
         "x": [
          "B-AerospaceManufacturer",
          "B-AnatomicalStructure",
          "B-ArtWork",
          "B-Artist",
          "B-Athlete",
          "B-CarManufacturer",
          "B-Cleric",
          "B-Clothing",
          "B-Disease",
          "B-Drink",
          "B-Facility",
          "B-Food",
          "B-HumanSettlement",
          "B-MedicalProcedure",
          "B-Medication/Vaccine",
          "B-MusicalGRP",
          "B-MusicalWork",
          "B-ORG",
          "B-OtherLOC",
          "B-OtherPER",
          "B-OtherPROD",
          "B-Politician",
          "B-PrivateCorp",
          "B-PublicCorp",
          "B-Scientist",
          "B-Software",
          "B-SportsGRP",
          "B-SportsManager",
          "B-Station",
          "B-Symptom",
          "B-Vehicle",
          "B-VisualWork",
          "B-WrittenWork",
          "I-AerospaceManufacturer",
          "I-AnatomicalStructure",
          "I-ArtWork",
          "I-Artist",
          "I-Athlete",
          "I-CarManufacturer",
          "I-Cleric",
          "I-Clothing",
          "I-Disease",
          "I-Drink",
          "I-Facility",
          "I-Food",
          "I-HumanSettlement",
          "I-MedicalProcedure",
          "I-Medication/Vaccine",
          "I-MusicalGRP",
          "I-MusicalWork",
          "I-ORG",
          "I-OtherLOC",
          "I-OtherPER",
          "I-OtherPROD",
          "I-Politician",
          "I-PrivateCorp",
          "I-PublicCorp",
          "I-Scientist",
          "I-Software",
          "I-SportsGRP",
          "I-SportsManager",
          "I-Station",
          "I-Symptom",
          "I-Vehicle",
          "I-VisualWork",
          "I-WrittenWork",
          "O",
          "micro avg",
          "macro avg",
          "weighted avg",
          "samples avg"
         ],
         "xaxis": "x",
         "y": [
          0,
          0.1818181818181818,
          0,
          0.5221238938053097,
          0.2912621359223301,
          0,
          0,
          0,
          0.1538461538461538,
          0,
          0.1395348837209302,
          0,
          0.3886255924170615,
          0,
          0,
          0.1944444444444444,
          0.1025641025641025,
          0.3037974683544304,
          0,
          0.339622641509434,
          0.1038961038961039,
          0.0909090909090909,
          0,
          0,
          0,
          0,
          0.196078431372549,
          0,
          0.2727272727272727,
          0,
          0,
          0.2391304347826086,
          0.4062499999999999,
          0,
          0,
          0,
          0.5517241379310345,
          0.2857142857142857,
          0,
          0,
          0,
          0.2352941176470588,
          0,
          0.1791044776119403,
          0,
          0.5483870967741935,
          0,
          0,
          0.2307692307692307,
          0.1481481481481481,
          0.2900763358778626,
          0,
          0.3333333333333333,
          0.0975609756097561,
          0.1081081081081081,
          0,
          0,
          0,
          0,
          0.196078431372549,
          0,
          0.3478260869565217,
          0,
          0,
          0.2325581395348837,
          0.4528301886792453,
          0.9993373094764744,
          0.5284590467376215,
          0.1367683766512631,
          0.4831969585366614,
          0.5420829501624203
         ],
         "yaxis": "y"
        }
       ],
       "layout": {
        "legend": {
         "title": {
          "text": "model_name"
         },
         "tracegroupgap": 0
        },
        "margin": {
         "t": 60
        },
        "template": {
         "data": {
          "bar": [
           {
            "error_x": {
             "color": "#2a3f5f"
            },
            "error_y": {
             "color": "#2a3f5f"
            },
            "marker": {
             "line": {
              "color": "#E5ECF6",
              "width": 0.5
             },
             "pattern": {
              "fillmode": "overlay",
              "size": 10,
              "solidity": 0.2
             }
            },
            "type": "bar"
           }
          ],
          "barpolar": [
           {
            "marker": {
             "line": {
              "color": "#E5ECF6",
              "width": 0.5
             },
             "pattern": {
              "fillmode": "overlay",
              "size": 10,
              "solidity": 0.2
             }
            },
            "type": "barpolar"
           }
          ],
          "carpet": [
           {
            "aaxis": {
             "endlinecolor": "#2a3f5f",
             "gridcolor": "white",
             "linecolor": "white",
             "minorgridcolor": "white",
             "startlinecolor": "#2a3f5f"
            },
            "baxis": {
             "endlinecolor": "#2a3f5f",
             "gridcolor": "white",
             "linecolor": "white",
             "minorgridcolor": "white",
             "startlinecolor": "#2a3f5f"
            },
            "type": "carpet"
           }
          ],
          "choropleth": [
           {
            "colorbar": {
             "outlinewidth": 0,
             "ticks": ""
            },
            "type": "choropleth"
           }
          ],
          "contour": [
           {
            "colorbar": {
             "outlinewidth": 0,
             "ticks": ""
            },
            "colorscale": [
             [
              0,
              "#0d0887"
             ],
             [
              0.1111111111111111,
              "#46039f"
             ],
             [
              0.2222222222222222,
              "#7201a8"
             ],
             [
              0.3333333333333333,
              "#9c179e"
             ],
             [
              0.4444444444444444,
              "#bd3786"
             ],
             [
              0.5555555555555556,
              "#d8576b"
             ],
             [
              0.6666666666666666,
              "#ed7953"
             ],
             [
              0.7777777777777778,
              "#fb9f3a"
             ],
             [
              0.8888888888888888,
              "#fdca26"
             ],
             [
              1,
              "#f0f921"
             ]
            ],
            "type": "contour"
           }
          ],
          "contourcarpet": [
           {
            "colorbar": {
             "outlinewidth": 0,
             "ticks": ""
            },
            "type": "contourcarpet"
           }
          ],
          "heatmap": [
           {
            "colorbar": {
             "outlinewidth": 0,
             "ticks": ""
            },
            "colorscale": [
             [
              0,
              "#0d0887"
             ],
             [
              0.1111111111111111,
              "#46039f"
             ],
             [
              0.2222222222222222,
              "#7201a8"
             ],
             [
              0.3333333333333333,
              "#9c179e"
             ],
             [
              0.4444444444444444,
              "#bd3786"
             ],
             [
              0.5555555555555556,
              "#d8576b"
             ],
             [
              0.6666666666666666,
              "#ed7953"
             ],
             [
              0.7777777777777778,
              "#fb9f3a"
             ],
             [
              0.8888888888888888,
              "#fdca26"
             ],
             [
              1,
              "#f0f921"
             ]
            ],
            "type": "heatmap"
           }
          ],
          "heatmapgl": [
           {
            "colorbar": {
             "outlinewidth": 0,
             "ticks": ""
            },
            "colorscale": [
             [
              0,
              "#0d0887"
             ],
             [
              0.1111111111111111,
              "#46039f"
             ],
             [
              0.2222222222222222,
              "#7201a8"
             ],
             [
              0.3333333333333333,
              "#9c179e"
             ],
             [
              0.4444444444444444,
              "#bd3786"
             ],
             [
              0.5555555555555556,
              "#d8576b"
             ],
             [
              0.6666666666666666,
              "#ed7953"
             ],
             [
              0.7777777777777778,
              "#fb9f3a"
             ],
             [
              0.8888888888888888,
              "#fdca26"
             ],
             [
              1,
              "#f0f921"
             ]
            ],
            "type": "heatmapgl"
           }
          ],
          "histogram": [
           {
            "marker": {
             "pattern": {
              "fillmode": "overlay",
              "size": 10,
              "solidity": 0.2
             }
            },
            "type": "histogram"
           }
          ],
          "histogram2d": [
           {
            "colorbar": {
             "outlinewidth": 0,
             "ticks": ""
            },
            "colorscale": [
             [
              0,
              "#0d0887"
             ],
             [
              0.1111111111111111,
              "#46039f"
             ],
             [
              0.2222222222222222,
              "#7201a8"
             ],
             [
              0.3333333333333333,
              "#9c179e"
             ],
             [
              0.4444444444444444,
              "#bd3786"
             ],
             [
              0.5555555555555556,
              "#d8576b"
             ],
             [
              0.6666666666666666,
              "#ed7953"
             ],
             [
              0.7777777777777778,
              "#fb9f3a"
             ],
             [
              0.8888888888888888,
              "#fdca26"
             ],
             [
              1,
              "#f0f921"
             ]
            ],
            "type": "histogram2d"
           }
          ],
          "histogram2dcontour": [
           {
            "colorbar": {
             "outlinewidth": 0,
             "ticks": ""
            },
            "colorscale": [
             [
              0,
              "#0d0887"
             ],
             [
              0.1111111111111111,
              "#46039f"
             ],
             [
              0.2222222222222222,
              "#7201a8"
             ],
             [
              0.3333333333333333,
              "#9c179e"
             ],
             [
              0.4444444444444444,
              "#bd3786"
             ],
             [
              0.5555555555555556,
              "#d8576b"
             ],
             [
              0.6666666666666666,
              "#ed7953"
             ],
             [
              0.7777777777777778,
              "#fb9f3a"
             ],
             [
              0.8888888888888888,
              "#fdca26"
             ],
             [
              1,
              "#f0f921"
             ]
            ],
            "type": "histogram2dcontour"
           }
          ],
          "mesh3d": [
           {
            "colorbar": {
             "outlinewidth": 0,
             "ticks": ""
            },
            "type": "mesh3d"
           }
          ],
          "parcoords": [
           {
            "line": {
             "colorbar": {
              "outlinewidth": 0,
              "ticks": ""
             }
            },
            "type": "parcoords"
           }
          ],
          "pie": [
           {
            "automargin": true,
            "type": "pie"
           }
          ],
          "scatter": [
           {
            "fillpattern": {
             "fillmode": "overlay",
             "size": 10,
             "solidity": 0.2
            },
            "type": "scatter"
           }
          ],
          "scatter3d": [
           {
            "line": {
             "colorbar": {
              "outlinewidth": 0,
              "ticks": ""
             }
            },
            "marker": {
             "colorbar": {
              "outlinewidth": 0,
              "ticks": ""
             }
            },
            "type": "scatter3d"
           }
          ],
          "scattercarpet": [
           {
            "marker": {
             "colorbar": {
              "outlinewidth": 0,
              "ticks": ""
             }
            },
            "type": "scattercarpet"
           }
          ],
          "scattergeo": [
           {
            "marker": {
             "colorbar": {
              "outlinewidth": 0,
              "ticks": ""
             }
            },
            "type": "scattergeo"
           }
          ],
          "scattergl": [
           {
            "marker": {
             "colorbar": {
              "outlinewidth": 0,
              "ticks": ""
             }
            },
            "type": "scattergl"
           }
          ],
          "scattermapbox": [
           {
            "marker": {
             "colorbar": {
              "outlinewidth": 0,
              "ticks": ""
             }
            },
            "type": "scattermapbox"
           }
          ],
          "scatterpolar": [
           {
            "marker": {
             "colorbar": {
              "outlinewidth": 0,
              "ticks": ""
             }
            },
            "type": "scatterpolar"
           }
          ],
          "scatterpolargl": [
           {
            "marker": {
             "colorbar": {
              "outlinewidth": 0,
              "ticks": ""
             }
            },
            "type": "scatterpolargl"
           }
          ],
          "scatterternary": [
           {
            "marker": {
             "colorbar": {
              "outlinewidth": 0,
              "ticks": ""
             }
            },
            "type": "scatterternary"
           }
          ],
          "surface": [
           {
            "colorbar": {
             "outlinewidth": 0,
             "ticks": ""
            },
            "colorscale": [
             [
              0,
              "#0d0887"
             ],
             [
              0.1111111111111111,
              "#46039f"
             ],
             [
              0.2222222222222222,
              "#7201a8"
             ],
             [
              0.3333333333333333,
              "#9c179e"
             ],
             [
              0.4444444444444444,
              "#bd3786"
             ],
             [
              0.5555555555555556,
              "#d8576b"
             ],
             [
              0.6666666666666666,
              "#ed7953"
             ],
             [
              0.7777777777777778,
              "#fb9f3a"
             ],
             [
              0.8888888888888888,
              "#fdca26"
             ],
             [
              1,
              "#f0f921"
             ]
            ],
            "type": "surface"
           }
          ],
          "table": [
           {
            "cells": {
             "fill": {
              "color": "#EBF0F8"
             },
             "line": {
              "color": "white"
             }
            },
            "header": {
             "fill": {
              "color": "#C8D4E3"
             },
             "line": {
              "color": "white"
             }
            },
            "type": "table"
           }
          ]
         },
         "layout": {
          "annotationdefaults": {
           "arrowcolor": "#2a3f5f",
           "arrowhead": 0,
           "arrowwidth": 1
          },
          "autotypenumbers": "strict",
          "coloraxis": {
           "colorbar": {
            "outlinewidth": 0,
            "ticks": ""
           }
          },
          "colorscale": {
           "diverging": [
            [
             0,
             "#8e0152"
            ],
            [
             0.1,
             "#c51b7d"
            ],
            [
             0.2,
             "#de77ae"
            ],
            [
             0.3,
             "#f1b6da"
            ],
            [
             0.4,
             "#fde0ef"
            ],
            [
             0.5,
             "#f7f7f7"
            ],
            [
             0.6,
             "#e6f5d0"
            ],
            [
             0.7,
             "#b8e186"
            ],
            [
             0.8,
             "#7fbc41"
            ],
            [
             0.9,
             "#4d9221"
            ],
            [
             1,
             "#276419"
            ]
           ],
           "sequential": [
            [
             0,
             "#0d0887"
            ],
            [
             0.1111111111111111,
             "#46039f"
            ],
            [
             0.2222222222222222,
             "#7201a8"
            ],
            [
             0.3333333333333333,
             "#9c179e"
            ],
            [
             0.4444444444444444,
             "#bd3786"
            ],
            [
             0.5555555555555556,
             "#d8576b"
            ],
            [
             0.6666666666666666,
             "#ed7953"
            ],
            [
             0.7777777777777778,
             "#fb9f3a"
            ],
            [
             0.8888888888888888,
             "#fdca26"
            ],
            [
             1,
             "#f0f921"
            ]
           ],
           "sequentialminus": [
            [
             0,
             "#0d0887"
            ],
            [
             0.1111111111111111,
             "#46039f"
            ],
            [
             0.2222222222222222,
             "#7201a8"
            ],
            [
             0.3333333333333333,
             "#9c179e"
            ],
            [
             0.4444444444444444,
             "#bd3786"
            ],
            [
             0.5555555555555556,
             "#d8576b"
            ],
            [
             0.6666666666666666,
             "#ed7953"
            ],
            [
             0.7777777777777778,
             "#fb9f3a"
            ],
            [
             0.8888888888888888,
             "#fdca26"
            ],
            [
             1,
             "#f0f921"
            ]
           ]
          },
          "colorway": [
           "#636efa",
           "#EF553B",
           "#00cc96",
           "#ab63fa",
           "#FFA15A",
           "#19d3f3",
           "#FF6692",
           "#B6E880",
           "#FF97FF",
           "#FECB52"
          ],
          "font": {
           "color": "#2a3f5f"
          },
          "geo": {
           "bgcolor": "white",
           "lakecolor": "white",
           "landcolor": "#E5ECF6",
           "showlakes": true,
           "showland": true,
           "subunitcolor": "white"
          },
          "hoverlabel": {
           "align": "left"
          },
          "hovermode": "closest",
          "mapbox": {
           "style": "light"
          },
          "paper_bgcolor": "white",
          "plot_bgcolor": "#E5ECF6",
          "polar": {
           "angularaxis": {
            "gridcolor": "white",
            "linecolor": "white",
            "ticks": ""
           },
           "bgcolor": "#E5ECF6",
           "radialaxis": {
            "gridcolor": "white",
            "linecolor": "white",
            "ticks": ""
           }
          },
          "scene": {
           "xaxis": {
            "backgroundcolor": "#E5ECF6",
            "gridcolor": "white",
            "gridwidth": 2,
            "linecolor": "white",
            "showbackground": true,
            "ticks": "",
            "zerolinecolor": "white"
           },
           "yaxis": {
            "backgroundcolor": "#E5ECF6",
            "gridcolor": "white",
            "gridwidth": 2,
            "linecolor": "white",
            "showbackground": true,
            "ticks": "",
            "zerolinecolor": "white"
           },
           "zaxis": {
            "backgroundcolor": "#E5ECF6",
            "gridcolor": "white",
            "gridwidth": 2,
            "linecolor": "white",
            "showbackground": true,
            "ticks": "",
            "zerolinecolor": "white"
           }
          },
          "shapedefaults": {
           "line": {
            "color": "#2a3f5f"
           }
          },
          "ternary": {
           "aaxis": {
            "gridcolor": "white",
            "linecolor": "white",
            "ticks": ""
           },
           "baxis": {
            "gridcolor": "white",
            "linecolor": "white",
            "ticks": ""
           },
           "bgcolor": "#E5ECF6",
           "caxis": {
            "gridcolor": "white",
            "linecolor": "white",
            "ticks": ""
           }
          },
          "title": {
           "x": 0.05
          },
          "xaxis": {
           "automargin": true,
           "gridcolor": "white",
           "linecolor": "white",
           "ticks": "",
           "title": {
            "standoff": 15
           },
           "zerolinecolor": "white",
           "zerolinewidth": 2
          },
          "yaxis": {
           "automargin": true,
           "gridcolor": "white",
           "linecolor": "white",
           "ticks": "",
           "title": {
            "standoff": 15
           },
           "zerolinecolor": "white",
           "zerolinewidth": 2
          }
         }
        },
        "xaxis": {
         "anchor": "y",
         "domain": [
          0,
          1
         ],
         "title": {
          "text": "tag_type"
         }
        },
        "yaxis": {
         "anchor": "x",
         "domain": [
          0,
          1
         ],
         "title": {
          "text": "f1_score"
         }
        }
       }
      }
     },
     "metadata": {},
     "output_type": "display_data"
    }
   ],
   "source": [
    "tmp_df = all_reports_df[all_reports_df[\"split_type\"] == \"valid\"]\n",
    "fig = px.line(tmp_df, x=\"tag_type\", y=\"f1_score\", color=\"model_name\", markers=\"^\")\n",
    "fig.show()"
   ]
  },
  {
   "cell_type": "code",
   "execution_count": null,
   "metadata": {},
   "outputs": [],
   "source": []
  }
 ],
 "metadata": {
  "kernelspec": {
   "display_name": "nlp",
   "language": "python",
   "name": "python3"
  },
  "language_info": {
   "codemirror_mode": {
    "name": "ipython",
    "version": 3
   },
   "file_extension": ".py",
   "mimetype": "text/x-python",
   "name": "python",
   "nbconvert_exporter": "python",
   "pygments_lexer": "ipython3",
   "version": "3.7.16"
  },
  "orig_nbformat": 4
 },
 "nbformat": 4,
 "nbformat_minor": 2
}
