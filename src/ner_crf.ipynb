{
 "cells": [
  {
   "cell_type": "code",
   "execution_count": 6,
   "metadata": {},
   "outputs": [
    {
     "name": "stdout",
     "output_type": "stream",
     "text": [
      "c:\\Users\\sharm\\Documents\\workspace\\gitworks\\ner-bilstm-crf\n"
     ]
    }
   ],
   "source": [
    "import os\n",
    "import sys\n",
    "import warnings\n",
    "warnings.filterwarnings(\"ignore\")\n",
    "PACKAGE_ROOT = os.path.dirname(os.path.abspath(\"\"))\n",
    "print(PACKAGE_ROOT)\n",
    "sys.path.insert(0, PACKAGE_ROOT)\n",
    "import joblib\n",
    "\n",
    "import pandas as pd\n",
    "pd.set_option(\"display.max_rows\", None)\n",
    "pd.set_option(\"display.max_columns\", None)\n",
    "# from sklearn.model_selection import cross_val_predict\n",
    "# from sklearn_crfsuite.metrics import flat_classification_report\n",
    "from sklearn_crfsuite import CRF\n",
    "# from sklearn.preprocessing import MultiLabelBinarizer\n",
    "# from sklearn.metrics import classification_report\n",
    "\n",
    "from preprocessing.crf_preprocessor import CRFPreprocessor\n",
    "from utils.utils import get_connl_data\n",
    "from data.ingestor import DataSaver, DataLoader"
   ]
  },
  {
   "cell_type": "code",
   "execution_count": 2,
   "metadata": {},
   "outputs": [],
   "source": [
    "train_df = get_connl_data(\"train\")\n",
    "valid_df = get_connl_data(\"valid\")\n",
    "test_df = get_connl_data(\"test\")\n",
    "\n",
    "obj = CRFPreprocessor()\n",
    "train_sentences = obj.get_sentences(train_df)\n",
    "valid_sentences = obj.get_sentences(valid_df)\n",
    "test_sentences = obj.get_sentences(test_df)\n",
    "\n",
    "X_train, y_train = obj.preprocess(train_sentences)\n",
    "X_valid, y_valid = obj.preprocess(valid_sentences)\n",
    "X_test, y_test = obj.preprocess(test_sentences)"
   ]
  },
  {
   "cell_type": "code",
   "execution_count": 3,
   "metadata": {},
   "outputs": [
    {
     "data": {
      "text/plain": [
       "CRF(algorithm='lbfgs', all_possible_states=None, all_possible_transitions=False,\n",
       "    averaging=None, c=None, c1=0.1, c2=0.1, calibration_candidates=None,\n",
       "    calibration_eta=None, calibration_max_trials=None, calibration_rate=None,\n",
       "    calibration_samples=None, delta=None, epsilon=None, error_sensitive=None,\n",
       "    gamma=None, keep_tempfiles=None, linesearch=None, max_iterations=100,\n",
       "    max_linesearch=None, min_freq=None, model_filename=None, num_memories=None,\n",
       "    pa_type=None, period=None, trainer_cls=None, variance=None, verbose=False)"
      ]
     },
     "execution_count": 3,
     "metadata": {},
     "output_type": "execute_result"
    }
   ],
   "source": [
    "crf = CRF(algorithm='lbfgs',\n",
    "          c1=0.1,\n",
    "          c2=0.1,\n",
    "          max_iterations=100,\n",
    "          all_possible_transitions=False)\n",
    "\n",
    "crf.fit(X_train, y_train)"
   ]
  },
  {
   "cell_type": "code",
   "execution_count": 4,
   "metadata": {},
   "outputs": [],
   "source": [
    "ds = DataSaver()\n",
    "ds.save_model(model=crf, model_type=\"crf\")"
   ]
  },
  {
   "cell_type": "code",
   "execution_count": 7,
   "metadata": {},
   "outputs": [],
   "source": [
    "dl = DataLoader()\n",
    "PATH = r\"C:\\Users\\sharm\\Documents\\workspace\\gitworks\\ner-bilstm-crf\\outputs\\model_artifacts\\crf-model-25-03-2023-17-21-01.pkl\"\n",
    "crf = joblib.load(PATH)"
   ]
  },
  {
   "cell_type": "code",
   "execution_count": 11,
   "metadata": {},
   "outputs": [],
   "source": [
    "ds = DataSaver()\n",
    "train_report_df = obj.inference(crf, X_train, y_train)\n",
    "ds.save_report(train_report_df, \"crf\", \"train\")\n",
    "\n",
    "valid_report_df = obj.inference(crf, X_valid, y_valid)\n",
    "ds.save_report(valid_report_df, \"crf\", \"valid\")\n",
    "\n",
    "test_report_df = obj.inference(crf, X_test, y_test)\n",
    "ds.save_report(test_report_df, \"crf\", \"test\")"
   ]
  },
  {
   "cell_type": "code",
   "execution_count": null,
   "metadata": {},
   "outputs": [],
   "source": [
    "# import eli5\n",
    "# # eli5.show_weights(crf, top=30)"
   ]
  },
  {
   "cell_type": "code",
   "execution_count": null,
   "metadata": {},
   "outputs": [],
   "source": [
    "# !pip install eli5\n",
    "# import eli5"
   ]
  },
  {
   "cell_type": "code",
   "execution_count": null,
   "metadata": {},
   "outputs": [],
   "source": [
    "# eli5.show_weights(crf, top=30)"
   ]
  }
 ],
 "metadata": {
  "kernelspec": {
   "display_name": "nlp_assignment",
   "language": "python",
   "name": "python3"
  },
  "language_info": {
   "codemirror_mode": {
    "name": "ipython",
    "version": 3
   },
   "file_extension": ".py",
   "mimetype": "text/x-python",
   "name": "python",
   "nbconvert_exporter": "python",
   "pygments_lexer": "ipython3",
   "version": "3.7.16"
  },
  "orig_nbformat": 4
 },
 "nbformat": 4,
 "nbformat_minor": 2
}
