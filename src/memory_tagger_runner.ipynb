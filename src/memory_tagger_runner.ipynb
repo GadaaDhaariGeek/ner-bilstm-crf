{
 "cells": [
  {
   "cell_type": "code",
   "execution_count": 1,
   "metadata": {},
   "outputs": [],
   "source": [
    "import os\n",
    "import sys\n",
    "from time import strftime, gmtime\n",
    "from datetime import datetime, date, timedelta\n",
    "import warnings\n",
    "warnings.filterwarnings(\"ignore\")\n",
    "PACKAGE_ROOT = os.path.dirname(os.path.abspath(\"\"))\n",
    "# print(PACKAGE_ROOT)\n",
    "sys.path.insert(0, PACKAGE_ROOT)\n",
    "\n",
    "import pandas as pd\n",
    "pd.set_option(\"display.max_rows\", None)\n",
    "pd.set_option(\"display.max_columns\", None)\n",
    "\n",
    "from commons import constants as C\n",
    "from preprocessing.memory_tagger_preprocessor import MemoryTaggerConnlPreprocessor\n",
    "from models.memory_tagger import MemoryTagger\n",
    "from data.ingestor import DataSaver"
   ]
  },
  {
   "cell_type": "code",
   "execution_count": 2,
   "metadata": {},
   "outputs": [],
   "source": [
    "processor = MemoryTaggerConnlPreprocessor()\n",
    "X_train, y_train = processor.get_preprocessed_data(split_type=\"train\")\n",
    "\n",
    "# processor = MemoryTaggerConnlPreprocessor()\n",
    "X_valid, y_valid = processor.get_preprocessed_data(split_type=\"valid\")\n",
    "\n",
    "# processor = MemoryTaggerConnlPreprocessor()\n",
    "X_test, y_test = processor.get_preprocessed_data(split_type=\"test\")"
   ]
  },
  {
   "cell_type": "code",
   "execution_count": 3,
   "metadata": {},
   "outputs": [],
   "source": [
    "### code to run the memeory tagger\n",
    "tagger = MemoryTagger()\n",
    "tagger.fit(X_train, y_train)"
   ]
  },
  {
   "cell_type": "code",
   "execution_count": 4,
   "metadata": {},
   "outputs": [],
   "source": [
    "ds = DataSaver()\n",
    "train_report_df = processor.inference(tagger, X_train, y_train)\n",
    "ds.save_report(train_report_df, \"tagger\", \"train\")\n",
    "\n",
    "valid_report_df = processor.inference(tagger, X_valid, y_valid)\n",
    "ds.save_report(valid_report_df, \"tagger\", \"valid\")\n",
    "\n",
    "test_report_df = processor.inference(tagger, X_valid, y_valid)\n",
    "ds.save_report(test_report_df, \"tagger\", \"test\")"
   ]
  }
 ],
 "metadata": {
  "kernelspec": {
   "display_name": "nlp_assignment",
   "language": "python",
   "name": "python3"
  },
  "language_info": {
   "codemirror_mode": {
    "name": "ipython",
    "version": 3
   },
   "file_extension": ".py",
   "mimetype": "text/x-python",
   "name": "python",
   "nbconvert_exporter": "python",
   "pygments_lexer": "ipython3",
   "version": "3.7.16"
  },
  "orig_nbformat": 4
 },
 "nbformat": 4,
 "nbformat_minor": 2
}
